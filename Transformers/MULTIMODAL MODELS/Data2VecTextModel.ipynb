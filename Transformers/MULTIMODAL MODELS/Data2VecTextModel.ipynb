{
 "cells": [
  {
   "cell_type": "code",
   "execution_count": 2,
   "metadata": {},
   "outputs": [],
   "source": [
    "import torch\n",
    "from transformers import Data2VecTextModel, AutoTokenizer\n",
    "from PIL import Image\n",
    "import requests"
   ]
  },
  {
   "cell_type": "code",
   "execution_count": 3,
   "metadata": {},
   "outputs": [
    {
     "data": {
      "text/plain": [
       "device(type='cuda', index=0)"
      ]
     },
     "execution_count": 3,
     "metadata": {},
     "output_type": "execute_result"
    }
   ],
   "source": [
    "device = torch.device(\"cuda:0\" if torch.cuda.is_available() else \"cpu\")\n",
    "device"
   ]
  },
  {
   "cell_type": "code",
   "execution_count": 4,
   "metadata": {},
   "outputs": [],
   "source": [
    "version = \"facebook/data2vec-text-base\"\n",
    "text = [\"a photo of 2 cats\", \"a photo of a dog\", \"a plane in the blue sky\"]"
   ]
  },
  {
   "cell_type": "markdown",
   "metadata": {},
   "source": [
    "# AutoTokenizer"
   ]
  },
  {
   "cell_type": "code",
   "execution_count": 5,
   "metadata": {},
   "outputs": [
    {
     "data": {
      "text/plain": [
       "RobertaTokenizerFast(name_or_path='facebook/data2vec-text-base', vocab_size=50265, model_max_length=512, is_fast=True, padding_side='right', truncation_side='right', special_tokens={'bos_token': AddedToken(\"<s>\", rstrip=False, lstrip=False, single_word=False, normalized=True), 'eos_token': AddedToken(\"</s>\", rstrip=False, lstrip=False, single_word=False, normalized=True), 'unk_token': AddedToken(\"<unk>\", rstrip=False, lstrip=False, single_word=False, normalized=True), 'sep_token': AddedToken(\"</s>\", rstrip=False, lstrip=False, single_word=False, normalized=True), 'pad_token': AddedToken(\"<pad>\", rstrip=False, lstrip=False, single_word=False, normalized=True), 'cls_token': AddedToken(\"<s>\", rstrip=False, lstrip=False, single_word=False, normalized=True), 'mask_token': AddedToken(\"<mask>\", rstrip=False, lstrip=True, single_word=False, normalized=True)}, clean_up_tokenization_spaces=True)"
      ]
     },
     "execution_count": 5,
     "metadata": {},
     "output_type": "execute_result"
    }
   ],
   "source": [
    "tokenizer: AutoTokenizer = AutoTokenizer.from_pretrained(version)\n",
    "tokenizer"
   ]
  },
  {
   "cell_type": "markdown",
   "metadata": {},
   "source": [
    "## special ids and tokens"
   ]
  },
  {
   "cell_type": "code",
   "execution_count": 6,
   "metadata": {},
   "outputs": [
    {
     "name": "stdout",
     "output_type": "stream",
     "text": [
      "[0, 2, 3, 1, 50264]\n",
      "['<s>', '</s>', '<unk>', '<pad>', '<mask>']\n"
     ]
    }
   ],
   "source": [
    "print(tokenizer.all_special_ids)\n",
    "print(tokenizer.all_special_tokens)"
   ]
  },
  {
   "cell_type": "markdown",
   "metadata": {},
   "source": [
    "## processor"
   ]
  },
  {
   "cell_type": "code",
   "execution_count": 6,
   "metadata": {},
   "outputs": [
    {
     "data": {
      "text/plain": [
       "{'input_ids': tensor([[    0,   102,  1345,     9,   132, 10017,     2,     1],\n",
       "        [    0,   102,  1345,     9,    10,  2335,     2,     1],\n",
       "        [    0,   102,  3286,    11,     5,  2440,  6360,     2]],\n",
       "       device='cuda:0'), 'attention_mask': tensor([[1, 1, 1, 1, 1, 1, 1, 0],\n",
       "        [1, 1, 1, 1, 1, 1, 1, 0],\n",
       "        [1, 1, 1, 1, 1, 1, 1, 1]], device='cuda:0')}"
      ]
     },
     "execution_count": 6,
     "metadata": {},
     "output_type": "execute_result"
    }
   ],
   "source": [
    "inputs = tokenizer(\n",
    "    text = text,                # 可以为列表或单个string\n",
    "    return_tensors = \"pt\",      # 返回数据格式 np pt tf jax\n",
    "    padding = True,             # 填充方式选择 [True, 'longest', 'max_length', 'do_not_pad']\n",
    "    # max_length = max_length,  # 如果使用max_length要将padding设置为 \"max_length\"\n",
    "    add_special_tokens = True,  # text添加特殊key\n",
    ").to(device, torch.float16)\n",
    "inputs"
   ]
  },
  {
   "cell_type": "code",
   "execution_count": 7,
   "metadata": {},
   "outputs": [
    {
     "data": {
      "text/plain": [
       "tensor([[    0,   102,  1345,     9,   132, 10017,     2,     1],\n",
       "        [    0,   102,  1345,     9,    10,  2335,     2,     1],\n",
       "        [    0,   102,  3286,    11,     5,  2440,  6360,     2]],\n",
       "       device='cuda:0')"
      ]
     },
     "execution_count": 7,
     "metadata": {},
     "output_type": "execute_result"
    }
   ],
   "source": [
    "inputs[\"input_ids\"]"
   ]
  },
  {
   "cell_type": "markdown",
   "metadata": {},
   "source": [
    "# Data2VecTextModel(Encoder)\n",
    "\n",
    "The bare Data2VecText Model for text transformer outputting raw hidden-states without any specific head on top."
   ]
  },
  {
   "cell_type": "code",
   "execution_count": 8,
   "metadata": {},
   "outputs": [
    {
     "name": "stderr",
     "output_type": "stream",
     "text": [
      "Some weights of the model checkpoint at facebook/data2vec-text-base were not used when initializing Data2VecTextModel: ['lm_head.dense.bias', 'lm_head.layer_norm.weight', 'lm_head.layer_norm.bias', 'lm_head.bias', 'lm_head.dense.weight']\n",
      "- This IS expected if you are initializing Data2VecTextModel from the checkpoint of a model trained on another task or with another architecture (e.g. initializing a BertForSequenceClassification model from a BertForPreTraining model).\n",
      "- This IS NOT expected if you are initializing Data2VecTextModel from the checkpoint of a model that you expect to be exactly identical (initializing a BertForSequenceClassification model from a BertForSequenceClassification model).\n",
      "Some weights of Data2VecTextModel were not initialized from the model checkpoint at facebook/data2vec-text-base and are newly initialized: ['data2vec_text.pooler.dense.weight', 'data2vec_text.pooler.dense.bias']\n",
      "You should probably TRAIN this model on a down-stream task to be able to use it for predictions and inference.\n"
     ]
    },
    {
     "data": {
      "text/plain": [
       "Data2VecTextModel(\n",
       "  (embeddings): Data2VecTextForTextEmbeddings(\n",
       "    (word_embeddings): Embedding(50265, 768, padding_idx=1)\n",
       "    (position_embeddings): Embedding(514, 768, padding_idx=1)\n",
       "    (token_type_embeddings): Embedding(1, 768)\n",
       "    (LayerNorm): LayerNorm((768,), eps=1e-05, elementwise_affine=True)\n",
       "    (dropout): Dropout(p=0.1, inplace=False)\n",
       "  )\n",
       "  (encoder): Data2VecTextEncoder(\n",
       "    (layer): ModuleList(\n",
       "      (0-11): 12 x Data2VecTextLayer(\n",
       "        (attention): Data2VecTextAttention(\n",
       "          (self): Data2VecTextSelfAttention(\n",
       "            (query): Linear(in_features=768, out_features=768, bias=True)\n",
       "            (key): Linear(in_features=768, out_features=768, bias=True)\n",
       "            (value): Linear(in_features=768, out_features=768, bias=True)\n",
       "            (dropout): Dropout(p=0.1, inplace=False)\n",
       "          )\n",
       "          (output): Data2VecTextSelfOutput(\n",
       "            (dense): Linear(in_features=768, out_features=768, bias=True)\n",
       "            (LayerNorm): LayerNorm((768,), eps=1e-05, elementwise_affine=True)\n",
       "            (dropout): Dropout(p=0.1, inplace=False)\n",
       "          )\n",
       "        )\n",
       "        (intermediate): Data2VecTextIntermediate(\n",
       "          (dense): Linear(in_features=768, out_features=3072, bias=True)\n",
       "          (intermediate_act_fn): GELUActivation()\n",
       "        )\n",
       "        (output): Data2VecTextOutput(\n",
       "          (dense): Linear(in_features=3072, out_features=768, bias=True)\n",
       "          (LayerNorm): LayerNorm((768,), eps=1e-05, elementwise_affine=True)\n",
       "          (dropout): Dropout(p=0.1, inplace=False)\n",
       "        )\n",
       "      )\n",
       "    )\n",
       "  )\n",
       "  (pooler): Data2VecTextPooler(\n",
       "    (dense): Linear(in_features=768, out_features=768, bias=True)\n",
       "    (activation): Tanh()\n",
       "  )\n",
       ")"
      ]
     },
     "execution_count": 8,
     "metadata": {},
     "output_type": "execute_result"
    }
   ],
   "source": [
    "model: Data2VecTextModel = Data2VecTextModel.from_pretrained(version, torch_dtype=torch.float16).to(device)\n",
    "model"
   ]
  },
  {
   "cell_type": "code",
   "execution_count": 9,
   "metadata": {},
   "outputs": [
    {
     "data": {
      "text/plain": [
       "BaseModelOutputWithPoolingAndCrossAttentions(last_hidden_state=tensor([[[ 0.2198, -0.0450,  0.0257,  ..., -0.0156, -0.1477,  0.1281],\n",
       "         [-0.0509, -0.2195, -0.2235,  ..., -0.0862,  0.0320,  0.0646],\n",
       "         [-0.0436, -0.2229, -0.2218,  ..., -0.0922,  0.0268,  0.0648],\n",
       "         ...,\n",
       "         [-0.0318, -0.2363, -0.2247,  ..., -0.1017,  0.0320,  0.0439],\n",
       "         [ 0.2022, -0.0683,  0.0710,  ...,  0.1358, -0.0658,  0.0317],\n",
       "         [-0.0504, -0.2287, -0.2265,  ..., -0.0950,  0.0350,  0.0562]],\n",
       "\n",
       "        [[ 0.2167, -0.0465,  0.0330,  ..., -0.0103, -0.1450,  0.1309],\n",
       "         [-0.0503, -0.2002, -0.2133,  ..., -0.0886,  0.0212,  0.0546],\n",
       "         [-0.0443, -0.2049, -0.2129,  ..., -0.0947,  0.0176,  0.0545],\n",
       "         ...,\n",
       "         [-0.0489, -0.2061, -0.2146,  ..., -0.0915,  0.0269,  0.0502],\n",
       "         [ 0.2069, -0.0628,  0.0759,  ...,  0.1504, -0.0647,  0.0299],\n",
       "         [-0.0430, -0.2117, -0.2160,  ..., -0.1011,  0.0226,  0.0481]],\n",
       "\n",
       "        [[ 0.2076, -0.0443,  0.0135,  ..., -0.0358, -0.1222,  0.1235],\n",
       "         [-0.0471, -0.1884, -0.1906,  ..., -0.0942,  0.0171,  0.0584],\n",
       "         [-0.0364, -0.2013, -0.1924,  ..., -0.0967,  0.0231,  0.0484],\n",
       "         ...,\n",
       "         [-0.0498, -0.1824, -0.1900,  ..., -0.0912,  0.0181,  0.0632],\n",
       "         [ 0.1870, -0.0055, -0.0003,  ..., -0.0630, -0.1469,  0.1125],\n",
       "         [ 0.2083, -0.0756,  0.0634,  ...,  0.1305, -0.0610,  0.0338]]],\n",
       "       device='cuda:0'), pooler_output=tensor([[-0.0132, -0.1235, -0.3335,  ...,  0.2239, -0.0440, -0.2046],\n",
       "        [-0.0118, -0.1264, -0.3320,  ...,  0.2229, -0.0477, -0.2024],\n",
       "        [-0.0216, -0.1353, -0.3531,  ...,  0.2325, -0.0437, -0.2197]],\n",
       "       device='cuda:0'), hidden_states=None, past_key_values=None, attentions=None, cross_attentions=None)"
      ]
     },
     "execution_count": 9,
     "metadata": {},
     "output_type": "execute_result"
    }
   ],
   "source": [
    "model.eval()\n",
    "with torch.inference_mode():\n",
    "    outputs = model(**inputs)\n",
    "outputs"
   ]
  },
  {
   "cell_type": "code",
   "execution_count": 10,
   "metadata": {},
   "outputs": [
    {
     "name": "stdout",
     "output_type": "stream",
     "text": [
      "torch.Size([3, 8, 768])\n",
      "tensor([[[ 0.2198, -0.0450,  0.0257,  ..., -0.0156, -0.1477,  0.1281],\n",
      "         [-0.0509, -0.2195, -0.2235,  ..., -0.0862,  0.0320,  0.0646],\n",
      "         [-0.0436, -0.2229, -0.2218,  ..., -0.0922,  0.0268,  0.0648],\n",
      "         ...,\n",
      "         [-0.0318, -0.2363, -0.2247,  ..., -0.1017,  0.0320,  0.0439],\n",
      "         [ 0.2022, -0.0683,  0.0710,  ...,  0.1358, -0.0658,  0.0317],\n",
      "         [-0.0504, -0.2287, -0.2265,  ..., -0.0950,  0.0350,  0.0562]],\n",
      "\n",
      "        [[ 0.2167, -0.0465,  0.0330,  ..., -0.0103, -0.1450,  0.1309],\n",
      "         [-0.0503, -0.2002, -0.2133,  ..., -0.0886,  0.0212,  0.0546],\n",
      "         [-0.0443, -0.2049, -0.2129,  ..., -0.0947,  0.0176,  0.0545],\n",
      "         ...,\n",
      "         [-0.0489, -0.2061, -0.2146,  ..., -0.0915,  0.0269,  0.0502],\n",
      "         [ 0.2069, -0.0628,  0.0759,  ...,  0.1504, -0.0647,  0.0299],\n",
      "         [-0.0430, -0.2117, -0.2160,  ..., -0.1011,  0.0226,  0.0481]],\n",
      "\n",
      "        [[ 0.2076, -0.0443,  0.0135,  ..., -0.0358, -0.1222,  0.1235],\n",
      "         [-0.0471, -0.1884, -0.1906,  ..., -0.0942,  0.0171,  0.0584],\n",
      "         [-0.0364, -0.2013, -0.1924,  ..., -0.0967,  0.0231,  0.0484],\n",
      "         ...,\n",
      "         [-0.0498, -0.1824, -0.1900,  ..., -0.0912,  0.0181,  0.0632],\n",
      "         [ 0.1870, -0.0055, -0.0003,  ..., -0.0630, -0.1469,  0.1125],\n",
      "         [ 0.2083, -0.0756,  0.0634,  ...,  0.1305, -0.0610,  0.0338]]],\n",
      "       device='cuda:0')\n"
     ]
    }
   ],
   "source": [
    "print(outputs.last_hidden_state.shape)\n",
    "print(outputs.last_hidden_state)"
   ]
  },
  {
   "cell_type": "code",
   "execution_count": 11,
   "metadata": {},
   "outputs": [
    {
     "name": "stdout",
     "output_type": "stream",
     "text": [
      "torch.Size([3, 768])\n",
      "tensor([[-0.0132, -0.1235, -0.3335,  ...,  0.2239, -0.0440, -0.2046],\n",
      "        [-0.0118, -0.1264, -0.3320,  ...,  0.2229, -0.0477, -0.2024],\n",
      "        [-0.0216, -0.1353, -0.3531,  ...,  0.2325, -0.0437, -0.2197]],\n",
      "       device='cuda:0')\n"
     ]
    }
   ],
   "source": [
    "print(outputs.pooler_output.shape)\n",
    "print(outputs.pooler_output)"
   ]
  },
  {
   "cell_type": "code",
   "execution_count": 12,
   "metadata": {},
   "outputs": [],
   "source": [
    "outputs.hidden_states"
   ]
  },
  {
   "cell_type": "code",
   "execution_count": null,
   "metadata": {},
   "outputs": [],
   "source": []
  }
 ],
 "metadata": {
  "kernelspec": {
   "display_name": "pytorch",
   "language": "python",
   "name": "python3"
  },
  "language_info": {
   "codemirror_mode": {
    "name": "ipython",
    "version": 3
   },
   "file_extension": ".py",
   "mimetype": "text/x-python",
   "name": "python",
   "nbconvert_exporter": "python",
   "pygments_lexer": "ipython3",
   "version": "3.11.4"
  },
  "orig_nbformat": 4
 },
 "nbformat": 4,
 "nbformat_minor": 2
}
