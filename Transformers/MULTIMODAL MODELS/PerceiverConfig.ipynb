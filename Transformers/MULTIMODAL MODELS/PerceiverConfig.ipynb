{
 "cells": [
  {
   "cell_type": "code",
   "execution_count": 2,
   "metadata": {},
   "outputs": [],
   "source": [
    "import torch\n",
    "from transformers import (\n",
    "    PerceiverModel,\n",
    "    PerceiverConfig,\n",
    ")"
   ]
  },
  {
   "cell_type": "code",
   "execution_count": 3,
   "metadata": {},
   "outputs": [
    {
     "data": {
      "text/plain": [
       "device(type='cuda', index=0)"
      ]
     },
     "execution_count": 3,
     "metadata": {},
     "output_type": "execute_result"
    }
   ],
   "source": [
    "device = torch.device(\"cuda:0\" if torch.cuda.is_available() else \"cpu\")\n",
    "device"
   ]
  },
  {
   "cell_type": "markdown",
   "metadata": {},
   "source": [
    "# PerceiverConfig"
   ]
  },
  {
   "cell_type": "code",
   "execution_count": 4,
   "metadata": {},
   "outputs": [
    {
     "data": {
      "text/plain": [
       "PerceiverConfig {\n",
       "  \"attention_probs_dropout_prob\": 0.1,\n",
       "  \"audio_samples_per_frame\": 1920,\n",
       "  \"cross_attention_shape_for_attention\": \"kv\",\n",
       "  \"cross_attention_widening_factor\": 1,\n",
       "  \"d_latents\": 1280,\n",
       "  \"d_model\": 768,\n",
       "  \"hidden_act\": \"gelu\",\n",
       "  \"image_size\": 56,\n",
       "  \"initializer_range\": 0.02,\n",
       "  \"layer_norm_eps\": 1e-12,\n",
       "  \"max_position_embeddings\": 2048,\n",
       "  \"model_type\": \"perceiver\",\n",
       "  \"num_blocks\": 1,\n",
       "  \"num_cross_attention_heads\": 8,\n",
       "  \"num_frames\": 16,\n",
       "  \"num_latents\": 256,\n",
       "  \"num_self_attends_per_block\": 26,\n",
       "  \"num_self_attention_heads\": 8,\n",
       "  \"output_shape\": [\n",
       "    1,\n",
       "    16,\n",
       "    224,\n",
       "    224\n",
       "  ],\n",
       "  \"qk_channels\": null,\n",
       "  \"samples_per_patch\": 16,\n",
       "  \"self_attention_widening_factor\": 1,\n",
       "  \"train_size\": [\n",
       "    368,\n",
       "    496\n",
       "  ],\n",
       "  \"transformers_version\": \"4.31.0\",\n",
       "  \"use_query_residual\": true,\n",
       "  \"v_channels\": null,\n",
       "  \"vocab_size\": 262\n",
       "}"
      ]
     },
     "execution_count": 4,
     "metadata": {},
     "output_type": "execute_result"
    }
   ],
   "source": [
    "# Initializing a Perceiver deepmind/language-perceiver style configuration\n",
    "config = PerceiverConfig()\n",
    "config"
   ]
  },
  {
   "cell_type": "code",
   "execution_count": 5,
   "metadata": {},
   "outputs": [
    {
     "data": {
      "text/plain": [
       "PerceiverModel(\n",
       "  (embeddings): PerceiverEmbeddings()\n",
       "  (encoder): PerceiverEncoder(\n",
       "    (cross_attention): PerceiverLayer(\n",
       "      (attention): PerceiverAttention(\n",
       "        (self): PerceiverSelfAttention(\n",
       "          (layernorm1): LayerNorm((1280,), eps=1e-05, elementwise_affine=True)\n",
       "          (layernorm2): LayerNorm((768,), eps=1e-05, elementwise_affine=True)\n",
       "          (query): Linear(in_features=1280, out_features=768, bias=True)\n",
       "          (key): Linear(in_features=768, out_features=768, bias=True)\n",
       "          (value): Linear(in_features=768, out_features=768, bias=True)\n",
       "          (dropout): Dropout(p=0.1, inplace=False)\n",
       "        )\n",
       "        (output): PerceiverSelfOutput(\n",
       "          (dense): Linear(in_features=768, out_features=1280, bias=True)\n",
       "        )\n",
       "      )\n",
       "      (layernorm): LayerNorm((1280,), eps=1e-05, elementwise_affine=True)\n",
       "      (mlp): PerceiverMLP(\n",
       "        (dense1): Linear(in_features=1280, out_features=1280, bias=True)\n",
       "        (intermediate_act_fn): GELUActivation()\n",
       "        (dense2): Linear(in_features=1280, out_features=1280, bias=True)\n",
       "      )\n",
       "    )\n",
       "    (self_attends): ModuleList(\n",
       "      (0-25): 26 x PerceiverLayer(\n",
       "        (attention): PerceiverAttention(\n",
       "          (self): PerceiverSelfAttention(\n",
       "            (layernorm1): LayerNorm((1280,), eps=1e-05, elementwise_affine=True)\n",
       "            (layernorm2): Identity()\n",
       "            (query): Linear(in_features=1280, out_features=1280, bias=True)\n",
       "            (key): Linear(in_features=1280, out_features=1280, bias=True)\n",
       "            (value): Linear(in_features=1280, out_features=1280, bias=True)\n",
       "            (dropout): Dropout(p=0.1, inplace=False)\n",
       "          )\n",
       "          (output): PerceiverSelfOutput(\n",
       "            (dense): Linear(in_features=1280, out_features=1280, bias=True)\n",
       "          )\n",
       "        )\n",
       "        (layernorm): LayerNorm((1280,), eps=1e-05, elementwise_affine=True)\n",
       "        (mlp): PerceiverMLP(\n",
       "          (dense1): Linear(in_features=1280, out_features=1280, bias=True)\n",
       "          (intermediate_act_fn): GELUActivation()\n",
       "          (dense2): Linear(in_features=1280, out_features=1280, bias=True)\n",
       "        )\n",
       "      )\n",
       "    )\n",
       "  )\n",
       ")"
      ]
     },
     "execution_count": 5,
     "metadata": {},
     "output_type": "execute_result"
    }
   ],
   "source": [
    "model: PerceiverModel = PerceiverModel(config).to(device)\n",
    "model"
   ]
  },
  {
   "cell_type": "code",
   "execution_count": 6,
   "metadata": {},
   "outputs": [
    {
     "data": {
      "text/plain": [
       "PerceiverConfig {\n",
       "  \"attention_probs_dropout_prob\": 0.1,\n",
       "  \"audio_samples_per_frame\": 1920,\n",
       "  \"cross_attention_shape_for_attention\": \"kv\",\n",
       "  \"cross_attention_widening_factor\": 1,\n",
       "  \"d_latents\": 1280,\n",
       "  \"d_model\": 768,\n",
       "  \"hidden_act\": \"gelu\",\n",
       "  \"image_size\": 56,\n",
       "  \"initializer_range\": 0.02,\n",
       "  \"layer_norm_eps\": 1e-12,\n",
       "  \"max_position_embeddings\": 2048,\n",
       "  \"model_type\": \"perceiver\",\n",
       "  \"num_blocks\": 1,\n",
       "  \"num_cross_attention_heads\": 8,\n",
       "  \"num_frames\": 16,\n",
       "  \"num_latents\": 256,\n",
       "  \"num_self_attends_per_block\": 26,\n",
       "  \"num_self_attention_heads\": 8,\n",
       "  \"output_shape\": [\n",
       "    1,\n",
       "    16,\n",
       "    224,\n",
       "    224\n",
       "  ],\n",
       "  \"qk_channels\": null,\n",
       "  \"samples_per_patch\": 16,\n",
       "  \"self_attention_widening_factor\": 1,\n",
       "  \"train_size\": [\n",
       "    368,\n",
       "    496\n",
       "  ],\n",
       "  \"transformers_version\": \"4.31.0\",\n",
       "  \"use_query_residual\": true,\n",
       "  \"v_channels\": null,\n",
       "  \"vocab_size\": 262\n",
       "}"
      ]
     },
     "execution_count": 6,
     "metadata": {},
     "output_type": "execute_result"
    }
   ],
   "source": [
    "model.config"
   ]
  },
  {
   "cell_type": "code",
   "execution_count": null,
   "metadata": {},
   "outputs": [],
   "source": []
  }
 ],
 "metadata": {
  "kernelspec": {
   "display_name": "pytorch",
   "language": "python",
   "name": "python3"
  },
  "language_info": {
   "codemirror_mode": {
    "name": "ipython",
    "version": 3
   },
   "file_extension": ".py",
   "mimetype": "text/x-python",
   "name": "python",
   "nbconvert_exporter": "python",
   "pygments_lexer": "ipython3",
   "version": "3.11.4"
  },
  "orig_nbformat": 4
 },
 "nbformat": 4,
 "nbformat_minor": 2
}
