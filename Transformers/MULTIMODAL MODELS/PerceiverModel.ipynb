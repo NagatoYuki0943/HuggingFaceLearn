{
 "cells": [
  {
   "cell_type": "markdown",
   "metadata": {},
   "source": [
    "https://huggingface.co/docs/transformers/main/model_doc/perceiver"
   ]
  },
  {
   "cell_type": "code",
   "execution_count": 1,
   "metadata": {},
   "outputs": [],
   "source": [
    "import torch\n",
    "from transformers import PerceiverConfig, PerceiverTokenizer, PerceiverImageProcessor, PerceiverModel\n",
    "from transformers.models.perceiver.modeling_perceiver import (\n",
    "    PerceiverTextPreprocessor,\n",
    "    PerceiverImagePreprocessor,\n",
    "    PerceiverClassificationDecoder,\n",
    ")\n",
    "from PIL import Image\n",
    "import requests"
   ]
  },
  {
   "cell_type": "code",
   "execution_count": 2,
   "metadata": {},
   "outputs": [
    {
     "data": {
      "text/plain": [
       "device(type='cuda', index=0)"
      ]
     },
     "execution_count": 2,
     "metadata": {},
     "output_type": "execute_result"
    }
   ],
   "source": [
    "device = torch.device(\"cuda:0\" if torch.cuda.is_available() else \"cpu\")\n",
    "device"
   ]
  },
  {
   "cell_type": "code",
   "execution_count": 3,
   "metadata": {},
   "outputs": [],
   "source": [
    "# EXAMPLE 1: using the Perceiver to classify texts\n",
    "# - we define a TextPreprocessor, which can be used to embed tokens\n",
    "# - we define a ClassificationDecoder, which can be used to decode the\n",
    "# final hidden states of the latents to classification logits\n",
    "# using trainable position embeddings"
   ]
  },
  {
   "cell_type": "code",
   "execution_count": 4,
   "metadata": {},
   "outputs": [],
   "source": [
    "version = \"deepmind/language-perceiver\""
   ]
  },
  {
   "cell_type": "markdown",
   "metadata": {},
   "source": [
    "# PerceiverConfig"
   ]
  },
  {
   "cell_type": "code",
   "execution_count": 5,
   "metadata": {},
   "outputs": [
    {
     "data": {
      "text/plain": [
       "PerceiverConfig {\n",
       "  \"_label_trainable_num_channels\": 1024,\n",
       "  \"attention_probs_dropout_prob\": 0.1,\n",
       "  \"audio_samples_per_frame\": 1920,\n",
       "  \"cross_attention_shape_for_attention\": \"kv\",\n",
       "  \"cross_attention_widening_factor\": 1,\n",
       "  \"d_latents\": 1280,\n",
       "  \"d_model\": 768,\n",
       "  \"hidden_act\": \"gelu\",\n",
       "  \"image_size\": 56,\n",
       "  \"initializer_range\": 0.02,\n",
       "  \"layer_norm_eps\": 1e-12,\n",
       "  \"max_position_embeddings\": 2048,\n",
       "  \"model_type\": \"perceiver\",\n",
       "  \"num_blocks\": 1,\n",
       "  \"num_cross_attention_heads\": 8,\n",
       "  \"num_frames\": 16,\n",
       "  \"num_latents\": 256,\n",
       "  \"num_self_attends_per_block\": 26,\n",
       "  \"num_self_attention_heads\": 8,\n",
       "  \"output_num_channels\": 512,\n",
       "  \"output_shape\": [\n",
       "    1,\n",
       "    16,\n",
       "    224,\n",
       "    224\n",
       "  ],\n",
       "  \"qk_channels\": null,\n",
       "  \"samples_per_patch\": 16,\n",
       "  \"self_attention_widening_factor\": 1,\n",
       "  \"train_size\": [\n",
       "    368,\n",
       "    496\n",
       "  ],\n",
       "  \"transformers_version\": \"4.39.0\",\n",
       "  \"use_query_residual\": true,\n",
       "  \"v_channels\": null,\n",
       "  \"vocab_size\": 262\n",
       "}"
      ]
     },
     "execution_count": 5,
     "metadata": {},
     "output_type": "execute_result"
    }
   ],
   "source": [
    "config = PerceiverConfig()\n",
    "config"
   ]
  },
  {
   "cell_type": "markdown",
   "metadata": {},
   "source": [
    "# PerceiverTextPreprocessor"
   ]
  },
  {
   "cell_type": "code",
   "execution_count": 8,
   "metadata": {},
   "outputs": [
    {
     "data": {
      "text/plain": [
       "PerceiverTextPreprocessor(\n",
       "  (embeddings): Embedding(262, 768)\n",
       "  (position_embeddings): Embedding(2048, 768)\n",
       ")"
      ]
     },
     "execution_count": 8,
     "metadata": {},
     "output_type": "execute_result"
    }
   ],
   "source": [
    "preprocessor: PerceiverTextPreprocessor = PerceiverTextPreprocessor(config)\n",
    "preprocessor.to(device, torch.float16)"
   ]
  },
  {
   "cell_type": "markdown",
   "metadata": {},
   "source": [
    "# PerceiverClassificationDecoder"
   ]
  },
  {
   "cell_type": "code",
   "execution_count": 9,
   "metadata": {},
   "outputs": [
    {
     "data": {
      "text/plain": [
       "PerceiverClassificationDecoder(\n",
       "  (decoder): PerceiverBasicDecoder(\n",
       "    (output_position_encodings): PerceiverTrainablePositionEncoding()\n",
       "    (positions_projection): Identity()\n",
       "    (decoding_cross_attention): PerceiverLayer(\n",
       "      (attention): PerceiverAttention(\n",
       "        (self): PerceiverSelfAttention(\n",
       "          (layernorm1): LayerNorm((1280,), eps=1e-05, elementwise_affine=True)\n",
       "          (layernorm2): LayerNorm((1280,), eps=1e-05, elementwise_affine=True)\n",
       "          (query): Linear(in_features=1280, out_features=1280, bias=True)\n",
       "          (key): Linear(in_features=1280, out_features=1280, bias=True)\n",
       "          (value): Linear(in_features=1280, out_features=1280, bias=True)\n",
       "          (dropout): Dropout(p=0.1, inplace=False)\n",
       "        )\n",
       "        (output): PerceiverSelfOutput(\n",
       "          (dense): Linear(in_features=1280, out_features=1280, bias=True)\n",
       "        )\n",
       "      )\n",
       "      (layernorm): LayerNorm((1280,), eps=1e-05, elementwise_affine=True)\n",
       "      (mlp): PerceiverMLP(\n",
       "        (dense1): Linear(in_features=1280, out_features=1280, bias=True)\n",
       "        (intermediate_act_fn): GELUActivation()\n",
       "        (dense2): Linear(in_features=1280, out_features=1280, bias=True)\n",
       "      )\n",
       "    )\n",
       "    (final_layer): Linear(in_features=1280, out_features=2, bias=True)\n",
       "  )\n",
       ")"
      ]
     },
     "execution_count": 9,
     "metadata": {},
     "output_type": "execute_result"
    }
   ],
   "source": [
    "decoder = PerceiverClassificationDecoder(\n",
    "    config,\n",
    "    num_channels=config.d_latents,\n",
    "    trainable_position_encoding_kwargs=dict(num_channels=config.d_latents, index_dims=1),\n",
    "    use_query_residual=True,\n",
    ").to(device, torch.float16)\n",
    "decoder"
   ]
  },
  {
   "cell_type": "markdown",
   "metadata": {},
   "source": [
    "# PerceiverTokenizer"
   ]
  },
  {
   "cell_type": "code",
   "execution_count": 10,
   "metadata": {},
   "outputs": [
    {
     "data": {
      "text/plain": [
       "PerceiverTokenizer(name_or_path='', vocab_size=256, model_max_length=2048, is_fast=False, padding_side='right', truncation_side='right', special_tokens={'bos_token': '[BOS]', 'eos_token': '[EOS]', 'sep_token': '[SEP]', 'pad_token': '[PAD]', 'cls_token': '[CLS]', 'mask_token': '[MASK]'}, clean_up_tokenization_spaces=True),  added_tokens_decoder={\n",
       "\t0: AddedToken(\"[PAD]\", rstrip=False, lstrip=False, single_word=False, normalized=True, special=True),\n",
       "\t1: AddedToken(\"[BOS]\", rstrip=False, lstrip=False, single_word=False, normalized=True, special=True),\n",
       "\t2: AddedToken(\"[EOS]\", rstrip=False, lstrip=False, single_word=False, normalized=True, special=True),\n",
       "\t3: AddedToken(\"[MASK]\", rstrip=False, lstrip=False, single_word=False, normalized=True, special=True),\n",
       "\t4: AddedToken(\"[CLS]\", rstrip=False, lstrip=False, single_word=False, normalized=True, special=True),\n",
       "\t5: AddedToken(\"[SEP]\", rstrip=False, lstrip=False, single_word=False, normalized=True, special=True),\n",
       "}"
      ]
     },
     "execution_count": 10,
     "metadata": {},
     "output_type": "execute_result"
    }
   ],
   "source": [
    "tokenizer = PerceiverTokenizer()\n",
    "tokenizer"
   ]
  },
  {
   "cell_type": "code",
   "execution_count": 11,
   "metadata": {},
   "outputs": [],
   "source": [
    "text = \"hello world\""
   ]
  },
  {
   "cell_type": "code",
   "execution_count": 18,
   "metadata": {},
   "outputs": [
    {
     "data": {
      "text/plain": [
       "tensor([[  4, 110, 107, 114, 114, 117,  38, 125, 117, 120, 114, 106,   5]],\n",
       "       device='cuda:0')"
      ]
     },
     "execution_count": 18,
     "metadata": {},
     "output_type": "execute_result"
    }
   ],
   "source": [
    "inputs = tokenizer(text, return_tensors=\"pt\").input_ids.to(device)\n",
    "inputs"
   ]
  },
  {
   "cell_type": "markdown",
   "metadata": {},
   "source": [
    "# PerceiverModel"
   ]
  },
  {
   "cell_type": "code",
   "execution_count": 16,
   "metadata": {},
   "outputs": [
    {
     "data": {
      "text/plain": [
       "PerceiverModel(\n",
       "  (input_preprocessor): PerceiverTextPreprocessor(\n",
       "    (embeddings): Embedding(262, 768)\n",
       "    (position_embeddings): Embedding(2048, 768)\n",
       "  )\n",
       "  (embeddings): PerceiverEmbeddings()\n",
       "  (encoder): PerceiverEncoder(\n",
       "    (cross_attention): PerceiverLayer(\n",
       "      (attention): PerceiverAttention(\n",
       "        (self): PerceiverSelfAttention(\n",
       "          (layernorm1): LayerNorm((1280,), eps=1e-05, elementwise_affine=True)\n",
       "          (layernorm2): LayerNorm((768,), eps=1e-05, elementwise_affine=True)\n",
       "          (query): Linear(in_features=1280, out_features=768, bias=True)\n",
       "          (key): Linear(in_features=768, out_features=768, bias=True)\n",
       "          (value): Linear(in_features=768, out_features=768, bias=True)\n",
       "          (dropout): Dropout(p=0.1, inplace=False)\n",
       "        )\n",
       "        (output): PerceiverSelfOutput(\n",
       "          (dense): Linear(in_features=768, out_features=1280, bias=True)\n",
       "        )\n",
       "      )\n",
       "      (layernorm): LayerNorm((1280,), eps=1e-05, elementwise_affine=True)\n",
       "      (mlp): PerceiverMLP(\n",
       "        (dense1): Linear(in_features=1280, out_features=1280, bias=True)\n",
       "        (intermediate_act_fn): GELUActivation()\n",
       "        (dense2): Linear(in_features=1280, out_features=1280, bias=True)\n",
       "      )\n",
       "    )\n",
       "    (self_attends): ModuleList(\n",
       "      (0-25): 26 x PerceiverLayer(\n",
       "        (attention): PerceiverAttention(\n",
       "          (self): PerceiverSelfAttention(\n",
       "            (layernorm1): LayerNorm((1280,), eps=1e-05, elementwise_affine=True)\n",
       "            (layernorm2): Identity()\n",
       "            (query): Linear(in_features=1280, out_features=1280, bias=True)\n",
       "            (key): Linear(in_features=1280, out_features=1280, bias=True)\n",
       "            (value): Linear(in_features=1280, out_features=1280, bias=True)\n",
       "            (dropout): Dropout(p=0.1, inplace=False)\n",
       "          )\n",
       "          (output): PerceiverSelfOutput(\n",
       "            (dense): Linear(in_features=1280, out_features=1280, bias=True)\n",
       "          )\n",
       "        )\n",
       "        (layernorm): LayerNorm((1280,), eps=1e-05, elementwise_affine=True)\n",
       "        (mlp): PerceiverMLP(\n",
       "          (dense1): Linear(in_features=1280, out_features=1280, bias=True)\n",
       "          (intermediate_act_fn): GELUActivation()\n",
       "          (dense2): Linear(in_features=1280, out_features=1280, bias=True)\n",
       "        )\n",
       "      )\n",
       "    )\n",
       "  )\n",
       "  (decoder): PerceiverClassificationDecoder(\n",
       "    (decoder): PerceiverBasicDecoder(\n",
       "      (output_position_encodings): PerceiverTrainablePositionEncoding()\n",
       "      (positions_projection): Identity()\n",
       "      (decoding_cross_attention): PerceiverLayer(\n",
       "        (attention): PerceiverAttention(\n",
       "          (self): PerceiverSelfAttention(\n",
       "            (layernorm1): LayerNorm((1280,), eps=1e-05, elementwise_affine=True)\n",
       "            (layernorm2): LayerNorm((1280,), eps=1e-05, elementwise_affine=True)\n",
       "            (query): Linear(in_features=1280, out_features=1280, bias=True)\n",
       "            (key): Linear(in_features=1280, out_features=1280, bias=True)\n",
       "            (value): Linear(in_features=1280, out_features=1280, bias=True)\n",
       "            (dropout): Dropout(p=0.1, inplace=False)\n",
       "          )\n",
       "          (output): PerceiverSelfOutput(\n",
       "            (dense): Linear(in_features=1280, out_features=1280, bias=True)\n",
       "          )\n",
       "        )\n",
       "        (layernorm): LayerNorm((1280,), eps=1e-05, elementwise_affine=True)\n",
       "        (mlp): PerceiverMLP(\n",
       "          (dense1): Linear(in_features=1280, out_features=1280, bias=True)\n",
       "          (intermediate_act_fn): GELUActivation()\n",
       "          (dense2): Linear(in_features=1280, out_features=1280, bias=True)\n",
       "        )\n",
       "      )\n",
       "      (final_layer): Linear(in_features=1280, out_features=2, bias=True)\n",
       "    )\n",
       "  )\n",
       ")"
      ]
     },
     "execution_count": 16,
     "metadata": {},
     "output_type": "execute_result"
    }
   ],
   "source": [
    "model = PerceiverModel(config, input_preprocessor=preprocessor, decoder=decoder).to(device, torch.float16)\n",
    "model"
   ]
  },
  {
   "cell_type": "code",
   "execution_count": 19,
   "metadata": {},
   "outputs": [
    {
     "data": {
      "text/plain": [
       "PerceiverModelOutput(logits=tensor([[-0.5283, -0.2347]], device='cuda:0', dtype=torch.float16), last_hidden_state=tensor([[[-0.0134,  4.4609, -2.7871,  ...,  2.2480, -1.4268,  0.6777],\n",
       "         [ 0.7168,  4.2617, -2.7109,  ...,  2.6523, -1.6992,  0.2996],\n",
       "         [-0.0256,  4.5508, -2.9453,  ...,  2.2305, -0.8931,  0.3347],\n",
       "         ...,\n",
       "         [-0.4036,  4.7227, -2.8164,  ...,  2.2754, -1.0645,  0.6475],\n",
       "         [-0.2010,  4.6328, -3.2773,  ...,  2.2422, -1.4541,  0.3049],\n",
       "         [-0.3857,  4.3711, -3.1055,  ...,  2.5254, -0.9180,  0.7041]]],\n",
       "       device='cuda:0', dtype=torch.float16), hidden_states=None, attentions=None, cross_attentions=None)"
      ]
     },
     "execution_count": 19,
     "metadata": {},
     "output_type": "execute_result"
    }
   ],
   "source": [
    "with torch.inference_mode():\n",
    "    outputs = model(inputs=inputs)\n",
    "outputs"
   ]
  },
  {
   "cell_type": "code",
   "execution_count": 20,
   "metadata": {},
   "outputs": [
    {
     "data": {
      "text/plain": [
       "tensor([[-0.5283, -0.2347]], device='cuda:0', dtype=torch.float16)"
      ]
     },
     "execution_count": 20,
     "metadata": {},
     "output_type": "execute_result"
    }
   ],
   "source": [
    "outputs.logits"
   ]
  },
  {
   "cell_type": "code",
   "execution_count": null,
   "metadata": {},
   "outputs": [],
   "source": []
  }
 ],
 "metadata": {
  "kernelspec": {
   "display_name": "pytorch",
   "language": "python",
   "name": "python3"
  },
  "language_info": {
   "codemirror_mode": {
    "name": "ipython",
    "version": 3
   },
   "file_extension": ".py",
   "mimetype": "text/x-python",
   "name": "python",
   "nbconvert_exporter": "python",
   "pygments_lexer": "ipython3",
   "version": "3.11.4"
  },
  "orig_nbformat": 4
 },
 "nbformat": 4,
 "nbformat_minor": 2
}
