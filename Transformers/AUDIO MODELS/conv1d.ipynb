{
 "cells": [
  {
   "cell_type": "code",
   "execution_count": 1,
   "metadata": {},
   "outputs": [],
   "source": [
    "import torch\n",
    "from torch import nn"
   ]
  },
  {
   "cell_type": "code",
   "execution_count": 19,
   "metadata": {},
   "outputs": [
    {
     "name": "stdout",
     "output_type": "stream",
     "text": [
      "torch.Size([64, 16, 3])\n",
      "torch.Size([64])\n",
      "torch.Size([10, 64, 50])\n"
     ]
    }
   ],
   "source": [
    "x = torch.randn(10, 16, 100)\n",
    "conv = nn.Conv1d(in_channels=16, out_channels=64, kernel_size=3, padding=1, stride=2)\n",
    "print(conv.weight.data.shape)   # [C_out, C_in, k]\n",
    "print(conv.bias.data.shape)\n",
    "print(conv(x).shape)"
   ]
  },
  {
   "cell_type": "code",
   "execution_count": 20,
   "metadata": {},
   "outputs": [
    {
     "name": "stdout",
     "output_type": "stream",
     "text": [
      "torch.Size([64, 16, 3, 3])\n",
      "torch.Size([64])\n",
      "torch.Size([10, 64, 50, 50])\n"
     ]
    }
   ],
   "source": [
    "x = torch.randn(10, 16, 100, 100)\n",
    "conv = nn.Conv2d(in_channels=16, out_channels=64, kernel_size=3, padding=1, stride=2)\n",
    "print(conv.weight.data.shape)   # [C_out, C_in, H_k, W_k]\n",
    "print(conv.bias.data.shape)\n",
    "print(conv(x).shape)"
   ]
  },
  {
   "cell_type": "code",
   "execution_count": 21,
   "metadata": {},
   "outputs": [
    {
     "name": "stdout",
     "output_type": "stream",
     "text": [
      "torch.Size([64, 16, 3, 3, 3])\n",
      "torch.Size([64])\n",
      "torch.Size([10, 64, 50, 50, 50])\n"
     ]
    }
   ],
   "source": [
    "x = torch.randn(10, 16, 100, 100, 100)\n",
    "conv = nn.Conv3d(in_channels=16, out_channels=64, kernel_size=3, padding=1, stride=2)\n",
    "print(conv.weight.data.shape)   # [C_out, C_in, D_k, H_k, W_k]\n",
    "print(conv.bias.data.shape)\n",
    "print(conv(x).shape)"
   ]
  },
  {
   "cell_type": "code",
   "execution_count": null,
   "metadata": {},
   "outputs": [],
   "source": []
  },
  {
   "cell_type": "code",
   "execution_count": null,
   "metadata": {},
   "outputs": [],
   "source": []
  },
  {
   "cell_type": "code",
   "execution_count": null,
   "metadata": {},
   "outputs": [],
   "source": []
  },
  {
   "cell_type": "code",
   "execution_count": null,
   "metadata": {},
   "outputs": [],
   "source": []
  }
 ],
 "metadata": {
  "kernelspec": {
   "display_name": "pytorch",
   "language": "python",
   "name": "python3"
  },
  "language_info": {
   "codemirror_mode": {
    "name": "ipython",
    "version": 3
   },
   "file_extension": ".py",
   "mimetype": "text/x-python",
   "name": "python",
   "nbconvert_exporter": "python",
   "pygments_lexer": "ipython3",
   "version": "3.11.4"
  }
 },
 "nbformat": 4,
 "nbformat_minor": 2
}
