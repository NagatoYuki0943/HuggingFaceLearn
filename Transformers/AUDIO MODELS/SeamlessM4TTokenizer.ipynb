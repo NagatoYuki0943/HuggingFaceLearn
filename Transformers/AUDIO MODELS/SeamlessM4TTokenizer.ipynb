{
 "cells": [
  {
   "cell_type": "code",
   "execution_count": 59,
   "metadata": {},
   "outputs": [],
   "source": [
    "import torch\n",
    "from transformers import SeamlessM4TTokenizer, SeamlessM4TTokenizerFast"
   ]
  },
  {
   "cell_type": "code",
   "execution_count": 60,
   "metadata": {},
   "outputs": [
    {
     "data": {
      "text/plain": [
       "device(type='cuda', index=0)"
      ]
     },
     "execution_count": 60,
     "metadata": {},
     "output_type": "execute_result"
    }
   ],
   "source": [
    "device = torch.device(\"cuda:0\" if torch.cuda.is_available() else \"cpu\")\n",
    "device"
   ]
  },
  {
   "cell_type": "code",
   "execution_count": 61,
   "metadata": {},
   "outputs": [],
   "source": [
    "version = \"facebook/hf-seamless-m4t-medium\"\n",
    "src_lang = \"eng\"\n",
    "tgt_lang = \"cmn\"\n",
    "example_english_phrase = \"UN Chief Says There Is No Military Solution in Syria\"\n",
    "expected_translation_cmn = \"联合国秘书长表示叙利亚问题没有军事解决方案\""
   ]
  },
  {
   "cell_type": "markdown",
   "metadata": {},
   "source": [
    "# SeamlessM4TTokenizer"
   ]
  },
  {
   "cell_type": "code",
   "execution_count": 62,
   "metadata": {},
   "outputs": [
    {
     "name": "stderr",
     "output_type": "stream",
     "text": [
      "Special tokens have been added in the vocabulary, make sure the associated word embeddings are fine-tuned or trained.\n"
     ]
    },
    {
     "data": {
      "text/plain": [
       "SeamlessM4TTokenizer(name_or_path='facebook/hf-seamless-m4t-medium', vocab_size=256000, model_max_length=2048, is_fast=False, padding_side='right', truncation_side='right', special_tokens={'bos_token': '<s>', 'eos_token': '</s>', 'unk_token': '<unk>', 'sep_token': '</s>', 'pad_token': '<pad>', 'cls_token': '<s>', 'additional_special_tokens': ['<pad>', '<unk>', '<s>', '</s>', '__ace__', '__ace_Latn__', '__acm__', '__acq__', '__aeb__', '__afr__', '__ajp__', '__aka__', '__amh__', '__apc__', '__arb__', '__ars__', '__ary__', '__arz__', '__asm__', '__ast__', '__awa__', '__ayr__', '__azb__', '__azj__', '__bak__', '__bam__', '__ban__', '__bel__', '__bem__', '__ben__', '__bho__', '__bjn__', '__bjn_Latn__', '__bod__', '__bos__', '__bug__', '__bul__', '__cat__', '__ceb__', '__ces__', '__cjk__', '__ckb__', '__crh__', '__cym__', '__dan__', '__deu__', '__dik__', '__dyu__', '__dzo__', '__ell__', '__eng__', '__epo__', '__est__', '__eus__', '__ewe__', '__fao__', '__pes__', '__fij__', '__fin__', '__fon__', '__fra__', '__fur__', '__fuv__', '__gla__', '__gle__', '__glg__', '__grn__', '__guj__', '__hat__', '__hau__', '__heb__', '__hin__', '__hne__', '__hrv__', '__hun__', '__hye__', '__ibo__', '__ilo__', '__ind__', '__isl__', '__ita__', '__jav__', '__jpn__', '__kab__', '__kac__', '__kam__', '__kan__', '__kas__', '__kas_Deva__', '__kat__', '__knc__', '__knc_Latn__', '__kaz__', '__kbp__', '__kea__', '__khm__', '__kik__', '__kin__', '__kir__', '__kmb__', '__kon__', '__kor__', '__kmr__', '__lao__', '__lvs__', '__lij__', '__lim__', '__lin__', '__lit__', '__lmo__', '__ltg__', '__ltz__', '__lua__', '__lug__', '__luo__', '__lus__', '__mag__', '__mai__', '__mal__', '__mar__', '__min__', '__mkd__', '__plt__', '__mlt__', '__mni__', '__khk__', '__mos__', '__mri__', '__zsm__', '__mya__', '__nld__', '__nno__', '__nob__', '__npi__', '__nso__', '__nus__', '__nya__', '__oci__', '__gaz__', '__ory__', '__pag__', '__pan__', '__pap__', '__pol__', '__por__', '__prs__', '__pbt__', '__quy__', '__ron__', '__run__', '__rus__', '__sag__', '__san__', '__sat__', '__scn__', '__shn__', '__sin__', '__slk__', '__slv__', '__smo__', '__sna__', '__snd__', '__som__', '__sot__', '__spa__', '__als__', '__srd__', '__srp__', '__ssw__', '__sun__', '__swe__', '__swh__', '__szl__', '__tam__', '__tat__', '__tel__', '__tgk__', '__tgl__', '__tha__', '__tir__', '__taq__', '__taq_Tfng__', '__tpi__', '__tsn__', '__tso__', '__tuk__', '__tum__', '__tur__', '__twi__', '__tzm__', '__uig__', '__ukr__', '__umb__', '__urd__', '__uzn__', '__vec__', '__vie__', '__war__', '__wol__', '__xho__', '__ydd__', '__yor__', '__yue__', '__cmn__', '__cmn_Hant__', '__zul__']}, clean_up_tokenization_spaces=True),  added_tokens_decoder={\n",
       "\t0: AddedToken(\"<pad>\", rstrip=False, lstrip=False, single_word=False, normalized=False, special=True),\n",
       "\t1: AddedToken(\"<unk>\", rstrip=False, lstrip=False, single_word=False, normalized=False, special=True),\n",
       "\t2: AddedToken(\"<s>\", rstrip=False, lstrip=False, single_word=False, normalized=False, special=True),\n",
       "\t3: AddedToken(\"</s>\", rstrip=False, lstrip=False, single_word=False, normalized=False, special=True),\n",
       "\t256001: AddedToken(\"__ace__\", rstrip=True, lstrip=True, single_word=False, normalized=False, special=True),\n",
       "\t256002: AddedToken(\"__ace_Latn__\", rstrip=True, lstrip=True, single_word=False, normalized=False, special=True),\n",
       "\t256003: AddedToken(\"__acm__\", rstrip=True, lstrip=True, single_word=False, normalized=False, special=True),\n",
       "\t256004: AddedToken(\"__acq__\", rstrip=True, lstrip=True, single_word=False, normalized=False, special=True),\n",
       "\t256005: AddedToken(\"__aeb__\", rstrip=True, lstrip=True, single_word=False, normalized=False, special=True),\n",
       "\t256006: AddedToken(\"__afr__\", rstrip=True, lstrip=True, single_word=False, normalized=False, special=True),\n",
       "\t256007: AddedToken(\"__ajp__\", rstrip=True, lstrip=True, single_word=False, normalized=False, special=True),\n",
       "\t256008: AddedToken(\"__aka__\", rstrip=True, lstrip=True, single_word=False, normalized=False, special=True),\n",
       "\t256009: AddedToken(\"__amh__\", rstrip=True, lstrip=True, single_word=False, normalized=False, special=True),\n",
       "\t256010: AddedToken(\"__apc__\", rstrip=True, lstrip=True, single_word=False, normalized=False, special=True),\n",
       "\t256011: AddedToken(\"__arb__\", rstrip=True, lstrip=True, single_word=False, normalized=False, special=True),\n",
       "\t256012: AddedToken(\"__ars__\", rstrip=True, lstrip=True, single_word=False, normalized=False, special=True),\n",
       "\t256013: AddedToken(\"__ary__\", rstrip=True, lstrip=True, single_word=False, normalized=False, special=True),\n",
       "\t256014: AddedToken(\"__arz__\", rstrip=True, lstrip=True, single_word=False, normalized=False, special=True),\n",
       "\t256015: AddedToken(\"__asm__\", rstrip=True, lstrip=True, single_word=False, normalized=False, special=True),\n",
       "\t256016: AddedToken(\"__ast__\", rstrip=True, lstrip=True, single_word=False, normalized=False, special=True),\n",
       "\t256017: AddedToken(\"__awa__\", rstrip=True, lstrip=True, single_word=False, normalized=False, special=True),\n",
       "\t256018: AddedToken(\"__ayr__\", rstrip=True, lstrip=True, single_word=False, normalized=False, special=True),\n",
       "\t256019: AddedToken(\"__azb__\", rstrip=True, lstrip=True, single_word=False, normalized=False, special=True),\n",
       "\t256020: AddedToken(\"__azj__\", rstrip=True, lstrip=True, single_word=False, normalized=False, special=True),\n",
       "\t256021: AddedToken(\"__bak__\", rstrip=True, lstrip=True, single_word=False, normalized=False, special=True),\n",
       "\t256022: AddedToken(\"__bam__\", rstrip=True, lstrip=True, single_word=False, normalized=False, special=True),\n",
       "\t256023: AddedToken(\"__ban__\", rstrip=True, lstrip=True, single_word=False, normalized=False, special=True),\n",
       "\t256024: AddedToken(\"__bel__\", rstrip=True, lstrip=True, single_word=False, normalized=False, special=True),\n",
       "\t256025: AddedToken(\"__bem__\", rstrip=True, lstrip=True, single_word=False, normalized=False, special=True),\n",
       "\t256026: AddedToken(\"__ben__\", rstrip=True, lstrip=True, single_word=False, normalized=False, special=True),\n",
       "\t256027: AddedToken(\"__bho__\", rstrip=True, lstrip=True, single_word=False, normalized=False, special=True),\n",
       "\t256028: AddedToken(\"__bjn__\", rstrip=True, lstrip=True, single_word=False, normalized=False, special=True),\n",
       "\t256029: AddedToken(\"__bjn_Latn__\", rstrip=True, lstrip=True, single_word=False, normalized=False, special=True),\n",
       "\t256030: AddedToken(\"__bod__\", rstrip=True, lstrip=True, single_word=False, normalized=False, special=True),\n",
       "\t256031: AddedToken(\"__bos__\", rstrip=True, lstrip=True, single_word=False, normalized=False, special=True),\n",
       "\t256032: AddedToken(\"__bug__\", rstrip=True, lstrip=True, single_word=False, normalized=False, special=True),\n",
       "\t256033: AddedToken(\"__bul__\", rstrip=True, lstrip=True, single_word=False, normalized=False, special=True),\n",
       "\t256034: AddedToken(\"__cat__\", rstrip=True, lstrip=True, single_word=False, normalized=False, special=True),\n",
       "\t256035: AddedToken(\"__ceb__\", rstrip=True, lstrip=True, single_word=False, normalized=False, special=True),\n",
       "\t256036: AddedToken(\"__ces__\", rstrip=True, lstrip=True, single_word=False, normalized=False, special=True),\n",
       "\t256037: AddedToken(\"__cjk__\", rstrip=True, lstrip=True, single_word=False, normalized=False, special=True),\n",
       "\t256038: AddedToken(\"__ckb__\", rstrip=True, lstrip=True, single_word=False, normalized=False, special=True),\n",
       "\t256039: AddedToken(\"__crh__\", rstrip=True, lstrip=True, single_word=False, normalized=False, special=True),\n",
       "\t256040: AddedToken(\"__cym__\", rstrip=True, lstrip=True, single_word=False, normalized=False, special=True),\n",
       "\t256041: AddedToken(\"__dan__\", rstrip=True, lstrip=True, single_word=False, normalized=False, special=True),\n",
       "\t256042: AddedToken(\"__deu__\", rstrip=True, lstrip=True, single_word=False, normalized=False, special=True),\n",
       "\t256043: AddedToken(\"__dik__\", rstrip=True, lstrip=True, single_word=False, normalized=False, special=True),\n",
       "\t256044: AddedToken(\"__dyu__\", rstrip=True, lstrip=True, single_word=False, normalized=False, special=True),\n",
       "\t256045: AddedToken(\"__dzo__\", rstrip=True, lstrip=True, single_word=False, normalized=False, special=True),\n",
       "\t256046: AddedToken(\"__ell__\", rstrip=True, lstrip=True, single_word=False, normalized=False, special=True),\n",
       "\t256047: AddedToken(\"__eng__\", rstrip=True, lstrip=True, single_word=False, normalized=False, special=True),\n",
       "\t256048: AddedToken(\"__epo__\", rstrip=True, lstrip=True, single_word=False, normalized=False, special=True),\n",
       "\t256049: AddedToken(\"__est__\", rstrip=True, lstrip=True, single_word=False, normalized=False, special=True),\n",
       "\t256050: AddedToken(\"__eus__\", rstrip=True, lstrip=True, single_word=False, normalized=False, special=True),\n",
       "\t256051: AddedToken(\"__ewe__\", rstrip=True, lstrip=True, single_word=False, normalized=False, special=True),\n",
       "\t256052: AddedToken(\"__fao__\", rstrip=True, lstrip=True, single_word=False, normalized=False, special=True),\n",
       "\t256053: AddedToken(\"__pes__\", rstrip=True, lstrip=True, single_word=False, normalized=False, special=True),\n",
       "\t256054: AddedToken(\"__fij__\", rstrip=True, lstrip=True, single_word=False, normalized=False, special=True),\n",
       "\t256055: AddedToken(\"__fin__\", rstrip=True, lstrip=True, single_word=False, normalized=False, special=True),\n",
       "\t256056: AddedToken(\"__fon__\", rstrip=True, lstrip=True, single_word=False, normalized=False, special=True),\n",
       "\t256057: AddedToken(\"__fra__\", rstrip=True, lstrip=True, single_word=False, normalized=False, special=True),\n",
       "\t256058: AddedToken(\"__fur__\", rstrip=True, lstrip=True, single_word=False, normalized=False, special=True),\n",
       "\t256059: AddedToken(\"__fuv__\", rstrip=True, lstrip=True, single_word=False, normalized=False, special=True),\n",
       "\t256060: AddedToken(\"__gla__\", rstrip=True, lstrip=True, single_word=False, normalized=False, special=True),\n",
       "\t256061: AddedToken(\"__gle__\", rstrip=True, lstrip=True, single_word=False, normalized=False, special=True),\n",
       "\t256062: AddedToken(\"__glg__\", rstrip=True, lstrip=True, single_word=False, normalized=False, special=True),\n",
       "\t256063: AddedToken(\"__grn__\", rstrip=True, lstrip=True, single_word=False, normalized=False, special=True),\n",
       "\t256064: AddedToken(\"__guj__\", rstrip=True, lstrip=True, single_word=False, normalized=False, special=True),\n",
       "\t256065: AddedToken(\"__hat__\", rstrip=True, lstrip=True, single_word=False, normalized=False, special=True),\n",
       "\t256066: AddedToken(\"__hau__\", rstrip=True, lstrip=True, single_word=False, normalized=False, special=True),\n",
       "\t256067: AddedToken(\"__heb__\", rstrip=True, lstrip=True, single_word=False, normalized=False, special=True),\n",
       "\t256068: AddedToken(\"__hin__\", rstrip=True, lstrip=True, single_word=False, normalized=False, special=True),\n",
       "\t256069: AddedToken(\"__hne__\", rstrip=True, lstrip=True, single_word=False, normalized=False, special=True),\n",
       "\t256070: AddedToken(\"__hrv__\", rstrip=True, lstrip=True, single_word=False, normalized=False, special=True),\n",
       "\t256071: AddedToken(\"__hun__\", rstrip=True, lstrip=True, single_word=False, normalized=False, special=True),\n",
       "\t256072: AddedToken(\"__hye__\", rstrip=True, lstrip=True, single_word=False, normalized=False, special=True),\n",
       "\t256073: AddedToken(\"__ibo__\", rstrip=True, lstrip=True, single_word=False, normalized=False, special=True),\n",
       "\t256074: AddedToken(\"__ilo__\", rstrip=True, lstrip=True, single_word=False, normalized=False, special=True),\n",
       "\t256075: AddedToken(\"__ind__\", rstrip=True, lstrip=True, single_word=False, normalized=False, special=True),\n",
       "\t256076: AddedToken(\"__isl__\", rstrip=True, lstrip=True, single_word=False, normalized=False, special=True),\n",
       "\t256077: AddedToken(\"__ita__\", rstrip=True, lstrip=True, single_word=False, normalized=False, special=True),\n",
       "\t256078: AddedToken(\"__jav__\", rstrip=True, lstrip=True, single_word=False, normalized=False, special=True),\n",
       "\t256079: AddedToken(\"__jpn__\", rstrip=True, lstrip=True, single_word=False, normalized=False, special=True),\n",
       "\t256080: AddedToken(\"__kab__\", rstrip=True, lstrip=True, single_word=False, normalized=False, special=True),\n",
       "\t256081: AddedToken(\"__kac__\", rstrip=True, lstrip=True, single_word=False, normalized=False, special=True),\n",
       "\t256082: AddedToken(\"__kam__\", rstrip=True, lstrip=True, single_word=False, normalized=False, special=True),\n",
       "\t256083: AddedToken(\"__kan__\", rstrip=True, lstrip=True, single_word=False, normalized=False, special=True),\n",
       "\t256084: AddedToken(\"__kas__\", rstrip=True, lstrip=True, single_word=False, normalized=False, special=True),\n",
       "\t256085: AddedToken(\"__kas_Deva__\", rstrip=True, lstrip=True, single_word=False, normalized=False, special=True),\n",
       "\t256086: AddedToken(\"__kat__\", rstrip=True, lstrip=True, single_word=False, normalized=False, special=True),\n",
       "\t256087: AddedToken(\"__knc__\", rstrip=True, lstrip=True, single_word=False, normalized=False, special=True),\n",
       "\t256088: AddedToken(\"__knc_Latn__\", rstrip=True, lstrip=True, single_word=False, normalized=False, special=True),\n",
       "\t256089: AddedToken(\"__kaz__\", rstrip=True, lstrip=True, single_word=False, normalized=False, special=True),\n",
       "\t256090: AddedToken(\"__kbp__\", rstrip=True, lstrip=True, single_word=False, normalized=False, special=True),\n",
       "\t256091: AddedToken(\"__kea__\", rstrip=True, lstrip=True, single_word=False, normalized=False, special=True),\n",
       "\t256092: AddedToken(\"__khm__\", rstrip=True, lstrip=True, single_word=False, normalized=False, special=True),\n",
       "\t256093: AddedToken(\"__kik__\", rstrip=True, lstrip=True, single_word=False, normalized=False, special=True),\n",
       "\t256094: AddedToken(\"__kin__\", rstrip=True, lstrip=True, single_word=False, normalized=False, special=True),\n",
       "\t256095: AddedToken(\"__kir__\", rstrip=True, lstrip=True, single_word=False, normalized=False, special=True),\n",
       "\t256096: AddedToken(\"__kmb__\", rstrip=True, lstrip=True, single_word=False, normalized=False, special=True),\n",
       "\t256097: AddedToken(\"__kon__\", rstrip=True, lstrip=True, single_word=False, normalized=False, special=True),\n",
       "\t256098: AddedToken(\"__kor__\", rstrip=True, lstrip=True, single_word=False, normalized=False, special=True),\n",
       "\t256099: AddedToken(\"__kmr__\", rstrip=True, lstrip=True, single_word=False, normalized=False, special=True),\n",
       "\t256100: AddedToken(\"__lao__\", rstrip=True, lstrip=True, single_word=False, normalized=False, special=True),\n",
       "\t256101: AddedToken(\"__lvs__\", rstrip=True, lstrip=True, single_word=False, normalized=False, special=True),\n",
       "\t256102: AddedToken(\"__lij__\", rstrip=True, lstrip=True, single_word=False, normalized=False, special=True),\n",
       "\t256103: AddedToken(\"__lim__\", rstrip=True, lstrip=True, single_word=False, normalized=False, special=True),\n",
       "\t256104: AddedToken(\"__lin__\", rstrip=True, lstrip=True, single_word=False, normalized=False, special=True),\n",
       "\t256105: AddedToken(\"__lit__\", rstrip=True, lstrip=True, single_word=False, normalized=False, special=True),\n",
       "\t256106: AddedToken(\"__lmo__\", rstrip=True, lstrip=True, single_word=False, normalized=False, special=True),\n",
       "\t256107: AddedToken(\"__ltg__\", rstrip=True, lstrip=True, single_word=False, normalized=False, special=True),\n",
       "\t256108: AddedToken(\"__ltz__\", rstrip=True, lstrip=True, single_word=False, normalized=False, special=True),\n",
       "\t256109: AddedToken(\"__lua__\", rstrip=True, lstrip=True, single_word=False, normalized=False, special=True),\n",
       "\t256110: AddedToken(\"__lug__\", rstrip=True, lstrip=True, single_word=False, normalized=False, special=True),\n",
       "\t256111: AddedToken(\"__luo__\", rstrip=True, lstrip=True, single_word=False, normalized=False, special=True),\n",
       "\t256112: AddedToken(\"__lus__\", rstrip=True, lstrip=True, single_word=False, normalized=False, special=True),\n",
       "\t256113: AddedToken(\"__mag__\", rstrip=True, lstrip=True, single_word=False, normalized=False, special=True),\n",
       "\t256114: AddedToken(\"__mai__\", rstrip=True, lstrip=True, single_word=False, normalized=False, special=True),\n",
       "\t256115: AddedToken(\"__mal__\", rstrip=True, lstrip=True, single_word=False, normalized=False, special=True),\n",
       "\t256116: AddedToken(\"__mar__\", rstrip=True, lstrip=True, single_word=False, normalized=False, special=True),\n",
       "\t256117: AddedToken(\"__min__\", rstrip=True, lstrip=True, single_word=False, normalized=False, special=True),\n",
       "\t256118: AddedToken(\"__mkd__\", rstrip=True, lstrip=True, single_word=False, normalized=False, special=True),\n",
       "\t256119: AddedToken(\"__plt__\", rstrip=True, lstrip=True, single_word=False, normalized=False, special=True),\n",
       "\t256120: AddedToken(\"__mlt__\", rstrip=True, lstrip=True, single_word=False, normalized=False, special=True),\n",
       "\t256121: AddedToken(\"__mni__\", rstrip=True, lstrip=True, single_word=False, normalized=False, special=True),\n",
       "\t256122: AddedToken(\"__khk__\", rstrip=True, lstrip=True, single_word=False, normalized=False, special=True),\n",
       "\t256123: AddedToken(\"__mos__\", rstrip=True, lstrip=True, single_word=False, normalized=False, special=True),\n",
       "\t256124: AddedToken(\"__mri__\", rstrip=True, lstrip=True, single_word=False, normalized=False, special=True),\n",
       "\t256125: AddedToken(\"__zsm__\", rstrip=True, lstrip=True, single_word=False, normalized=False, special=True),\n",
       "\t256126: AddedToken(\"__mya__\", rstrip=True, lstrip=True, single_word=False, normalized=False, special=True),\n",
       "\t256127: AddedToken(\"__nld__\", rstrip=True, lstrip=True, single_word=False, normalized=False, special=True),\n",
       "\t256128: AddedToken(\"__nno__\", rstrip=True, lstrip=True, single_word=False, normalized=False, special=True),\n",
       "\t256129: AddedToken(\"__nob__\", rstrip=True, lstrip=True, single_word=False, normalized=False, special=True),\n",
       "\t256130: AddedToken(\"__npi__\", rstrip=True, lstrip=True, single_word=False, normalized=False, special=True),\n",
       "\t256131: AddedToken(\"__nso__\", rstrip=True, lstrip=True, single_word=False, normalized=False, special=True),\n",
       "\t256132: AddedToken(\"__nus__\", rstrip=True, lstrip=True, single_word=False, normalized=False, special=True),\n",
       "\t256133: AddedToken(\"__nya__\", rstrip=True, lstrip=True, single_word=False, normalized=False, special=True),\n",
       "\t256134: AddedToken(\"__oci__\", rstrip=True, lstrip=True, single_word=False, normalized=False, special=True),\n",
       "\t256135: AddedToken(\"__gaz__\", rstrip=True, lstrip=True, single_word=False, normalized=False, special=True),\n",
       "\t256136: AddedToken(\"__ory__\", rstrip=True, lstrip=True, single_word=False, normalized=False, special=True),\n",
       "\t256137: AddedToken(\"__pag__\", rstrip=True, lstrip=True, single_word=False, normalized=False, special=True),\n",
       "\t256138: AddedToken(\"__pan__\", rstrip=True, lstrip=True, single_word=False, normalized=False, special=True),\n",
       "\t256139: AddedToken(\"__pap__\", rstrip=True, lstrip=True, single_word=False, normalized=False, special=True),\n",
       "\t256140: AddedToken(\"__pol__\", rstrip=True, lstrip=True, single_word=False, normalized=False, special=True),\n",
       "\t256141: AddedToken(\"__por__\", rstrip=True, lstrip=True, single_word=False, normalized=False, special=True),\n",
       "\t256142: AddedToken(\"__prs__\", rstrip=True, lstrip=True, single_word=False, normalized=False, special=True),\n",
       "\t256143: AddedToken(\"__pbt__\", rstrip=True, lstrip=True, single_word=False, normalized=False, special=True),\n",
       "\t256144: AddedToken(\"__quy__\", rstrip=True, lstrip=True, single_word=False, normalized=False, special=True),\n",
       "\t256145: AddedToken(\"__ron__\", rstrip=True, lstrip=True, single_word=False, normalized=False, special=True),\n",
       "\t256146: AddedToken(\"__run__\", rstrip=True, lstrip=True, single_word=False, normalized=False, special=True),\n",
       "\t256147: AddedToken(\"__rus__\", rstrip=True, lstrip=True, single_word=False, normalized=False, special=True),\n",
       "\t256148: AddedToken(\"__sag__\", rstrip=True, lstrip=True, single_word=False, normalized=False, special=True),\n",
       "\t256149: AddedToken(\"__san__\", rstrip=True, lstrip=True, single_word=False, normalized=False, special=True),\n",
       "\t256150: AddedToken(\"__sat__\", rstrip=True, lstrip=True, single_word=False, normalized=False, special=True),\n",
       "\t256151: AddedToken(\"__scn__\", rstrip=True, lstrip=True, single_word=False, normalized=False, special=True),\n",
       "\t256152: AddedToken(\"__shn__\", rstrip=True, lstrip=True, single_word=False, normalized=False, special=True),\n",
       "\t256153: AddedToken(\"__sin__\", rstrip=True, lstrip=True, single_word=False, normalized=False, special=True),\n",
       "\t256154: AddedToken(\"__slk__\", rstrip=True, lstrip=True, single_word=False, normalized=False, special=True),\n",
       "\t256155: AddedToken(\"__slv__\", rstrip=True, lstrip=True, single_word=False, normalized=False, special=True),\n",
       "\t256156: AddedToken(\"__smo__\", rstrip=True, lstrip=True, single_word=False, normalized=False, special=True),\n",
       "\t256157: AddedToken(\"__sna__\", rstrip=True, lstrip=True, single_word=False, normalized=False, special=True),\n",
       "\t256158: AddedToken(\"__snd__\", rstrip=True, lstrip=True, single_word=False, normalized=False, special=True),\n",
       "\t256159: AddedToken(\"__som__\", rstrip=True, lstrip=True, single_word=False, normalized=False, special=True),\n",
       "\t256160: AddedToken(\"__sot__\", rstrip=True, lstrip=True, single_word=False, normalized=False, special=True),\n",
       "\t256161: AddedToken(\"__spa__\", rstrip=True, lstrip=True, single_word=False, normalized=False, special=True),\n",
       "\t256162: AddedToken(\"__als__\", rstrip=True, lstrip=True, single_word=False, normalized=False, special=True),\n",
       "\t256163: AddedToken(\"__srd__\", rstrip=True, lstrip=True, single_word=False, normalized=False, special=True),\n",
       "\t256164: AddedToken(\"__srp__\", rstrip=True, lstrip=True, single_word=False, normalized=False, special=True),\n",
       "\t256165: AddedToken(\"__ssw__\", rstrip=True, lstrip=True, single_word=False, normalized=False, special=True),\n",
       "\t256166: AddedToken(\"__sun__\", rstrip=True, lstrip=True, single_word=False, normalized=False, special=True),\n",
       "\t256167: AddedToken(\"__swe__\", rstrip=True, lstrip=True, single_word=False, normalized=False, special=True),\n",
       "\t256168: AddedToken(\"__swh__\", rstrip=True, lstrip=True, single_word=False, normalized=False, special=True),\n",
       "\t256169: AddedToken(\"__szl__\", rstrip=True, lstrip=True, single_word=False, normalized=False, special=True),\n",
       "\t256170: AddedToken(\"__tam__\", rstrip=True, lstrip=True, single_word=False, normalized=False, special=True),\n",
       "\t256171: AddedToken(\"__tat__\", rstrip=True, lstrip=True, single_word=False, normalized=False, special=True),\n",
       "\t256172: AddedToken(\"__tel__\", rstrip=True, lstrip=True, single_word=False, normalized=False, special=True),\n",
       "\t256173: AddedToken(\"__tgk__\", rstrip=True, lstrip=True, single_word=False, normalized=False, special=True),\n",
       "\t256174: AddedToken(\"__tgl__\", rstrip=True, lstrip=True, single_word=False, normalized=False, special=True),\n",
       "\t256175: AddedToken(\"__tha__\", rstrip=True, lstrip=True, single_word=False, normalized=False, special=True),\n",
       "\t256176: AddedToken(\"__tir__\", rstrip=True, lstrip=True, single_word=False, normalized=False, special=True),\n",
       "\t256177: AddedToken(\"__taq__\", rstrip=True, lstrip=True, single_word=False, normalized=False, special=True),\n",
       "\t256178: AddedToken(\"__taq_Tfng__\", rstrip=True, lstrip=True, single_word=False, normalized=False, special=True),\n",
       "\t256179: AddedToken(\"__tpi__\", rstrip=True, lstrip=True, single_word=False, normalized=False, special=True),\n",
       "\t256180: AddedToken(\"__tsn__\", rstrip=True, lstrip=True, single_word=False, normalized=False, special=True),\n",
       "\t256181: AddedToken(\"__tso__\", rstrip=True, lstrip=True, single_word=False, normalized=False, special=True),\n",
       "\t256182: AddedToken(\"__tuk__\", rstrip=True, lstrip=True, single_word=False, normalized=False, special=True),\n",
       "\t256183: AddedToken(\"__tum__\", rstrip=True, lstrip=True, single_word=False, normalized=False, special=True),\n",
       "\t256184: AddedToken(\"__tur__\", rstrip=True, lstrip=True, single_word=False, normalized=False, special=True),\n",
       "\t256185: AddedToken(\"__twi__\", rstrip=True, lstrip=True, single_word=False, normalized=False, special=True),\n",
       "\t256186: AddedToken(\"__tzm__\", rstrip=True, lstrip=True, single_word=False, normalized=False, special=True),\n",
       "\t256187: AddedToken(\"__uig__\", rstrip=True, lstrip=True, single_word=False, normalized=False, special=True),\n",
       "\t256188: AddedToken(\"__ukr__\", rstrip=True, lstrip=True, single_word=False, normalized=False, special=True),\n",
       "\t256189: AddedToken(\"__umb__\", rstrip=True, lstrip=True, single_word=False, normalized=False, special=True),\n",
       "\t256190: AddedToken(\"__urd__\", rstrip=True, lstrip=True, single_word=False, normalized=False, special=True),\n",
       "\t256191: AddedToken(\"__uzn__\", rstrip=True, lstrip=True, single_word=False, normalized=False, special=True),\n",
       "\t256192: AddedToken(\"__vec__\", rstrip=True, lstrip=True, single_word=False, normalized=False, special=True),\n",
       "\t256193: AddedToken(\"__vie__\", rstrip=True, lstrip=True, single_word=False, normalized=False, special=True),\n",
       "\t256194: AddedToken(\"__war__\", rstrip=True, lstrip=True, single_word=False, normalized=False, special=True),\n",
       "\t256195: AddedToken(\"__wol__\", rstrip=True, lstrip=True, single_word=False, normalized=False, special=True),\n",
       "\t256196: AddedToken(\"__xho__\", rstrip=True, lstrip=True, single_word=False, normalized=False, special=True),\n",
       "\t256197: AddedToken(\"__ydd__\", rstrip=True, lstrip=True, single_word=False, normalized=False, special=True),\n",
       "\t256198: AddedToken(\"__yor__\", rstrip=True, lstrip=True, single_word=False, normalized=False, special=True),\n",
       "\t256199: AddedToken(\"__yue__\", rstrip=True, lstrip=True, single_word=False, normalized=False, special=True),\n",
       "\t256200: AddedToken(\"__cmn__\", rstrip=True, lstrip=True, single_word=False, normalized=False, special=True),\n",
       "\t256201: AddedToken(\"__cmn_Hant__\", rstrip=True, lstrip=True, single_word=False, normalized=False, special=True),\n",
       "\t256202: AddedToken(\"__zul__\", rstrip=True, lstrip=True, single_word=False, normalized=False, special=True),\n",
       "}"
      ]
     },
     "execution_count": 62,
     "metadata": {},
     "output_type": "execute_result"
    }
   ],
   "source": [
    "tokenizer = SeamlessM4TTokenizer.from_pretrained(version, src_lang=src_lang, tgt_lang=tgt_lang)\n",
    "tokenizer"
   ]
  },
  {
   "cell_type": "markdown",
   "metadata": {},
   "source": [
    "## special ids and tokens"
   ]
  },
  {
   "cell_type": "code",
   "execution_count": 63,
   "metadata": {},
   "outputs": [
    {
     "name": "stdout",
     "output_type": "stream",
     "text": [
      "[2, 3, 1, 0, 256001, 256002, 256003, 256004, 256005, 256006, 256007, 256008, 256009, 256010, 256011, 256012, 256013, 256014, 256015, 256016, 256017, 256018, 256019, 256020, 256021, 256022, 256023, 256024, 256025, 256026, 256027, 256028, 256029, 256030, 256031, 256032, 256033, 256034, 256035, 256036, 256037, 256038, 256039, 256040, 256041, 256042, 256043, 256044, 256045, 256046, 256047, 256048, 256049, 256050, 256051, 256052, 256053, 256054, 256055, 256056, 256057, 256058, 256059, 256060, 256061, 256062, 256063, 256064, 256065, 256066, 256067, 256068, 256069, 256070, 256071, 256072, 256073, 256074, 256075, 256076, 256077, 256078, 256079, 256080, 256081, 256082, 256083, 256084, 256085, 256086, 256087, 256088, 256089, 256090, 256091, 256092, 256093, 256094, 256095, 256096, 256097, 256098, 256099, 256100, 256101, 256102, 256103, 256104, 256105, 256106, 256107, 256108, 256109, 256110, 256111, 256112, 256113, 256114, 256115, 256116, 256117, 256118, 256119, 256120, 256121, 256122, 256123, 256124, 256125, 256126, 256127, 256128, 256129, 256130, 256131, 256132, 256133, 256134, 256135, 256136, 256137, 256138, 256139, 256140, 256141, 256142, 256143, 256144, 256145, 256146, 256147, 256148, 256149, 256150, 256151, 256152, 256153, 256154, 256155, 256156, 256157, 256158, 256159, 256160, 256161, 256162, 256163, 256164, 256165, 256166, 256167, 256168, 256169, 256170, 256171, 256172, 256173, 256174, 256175, 256176, 256177, 256178, 256179, 256180, 256181, 256182, 256183, 256184, 256185, 256186, 256187, 256188, 256189, 256190, 256191, 256192, 256193, 256194, 256195, 256196, 256197, 256198, 256199, 256200, 256201, 256202]\n",
      "['<s>', '</s>', '<unk>', '<pad>', '__ace__', '__ace_Latn__', '__acm__', '__acq__', '__aeb__', '__afr__', '__ajp__', '__aka__', '__amh__', '__apc__', '__arb__', '__ars__', '__ary__', '__arz__', '__asm__', '__ast__', '__awa__', '__ayr__', '__azb__', '__azj__', '__bak__', '__bam__', '__ban__', '__bel__', '__bem__', '__ben__', '__bho__', '__bjn__', '__bjn_Latn__', '__bod__', '__bos__', '__bug__', '__bul__', '__cat__', '__ceb__', '__ces__', '__cjk__', '__ckb__', '__crh__', '__cym__', '__dan__', '__deu__', '__dik__', '__dyu__', '__dzo__', '__ell__', '__eng__', '__epo__', '__est__', '__eus__', '__ewe__', '__fao__', '__pes__', '__fij__', '__fin__', '__fon__', '__fra__', '__fur__', '__fuv__', '__gla__', '__gle__', '__glg__', '__grn__', '__guj__', '__hat__', '__hau__', '__heb__', '__hin__', '__hne__', '__hrv__', '__hun__', '__hye__', '__ibo__', '__ilo__', '__ind__', '__isl__', '__ita__', '__jav__', '__jpn__', '__kab__', '__kac__', '__kam__', '__kan__', '__kas__', '__kas_Deva__', '__kat__', '__knc__', '__knc_Latn__', '__kaz__', '__kbp__', '__kea__', '__khm__', '__kik__', '__kin__', '__kir__', '__kmb__', '__kon__', '__kor__', '__kmr__', '__lao__', '__lvs__', '__lij__', '__lim__', '__lin__', '__lit__', '__lmo__', '__ltg__', '__ltz__', '__lua__', '__lug__', '__luo__', '__lus__', '__mag__', '__mai__', '__mal__', '__mar__', '__min__', '__mkd__', '__plt__', '__mlt__', '__mni__', '__khk__', '__mos__', '__mri__', '__zsm__', '__mya__', '__nld__', '__nno__', '__nob__', '__npi__', '__nso__', '__nus__', '__nya__', '__oci__', '__gaz__', '__ory__', '__pag__', '__pan__', '__pap__', '__pol__', '__por__', '__prs__', '__pbt__', '__quy__', '__ron__', '__run__', '__rus__', '__sag__', '__san__', '__sat__', '__scn__', '__shn__', '__sin__', '__slk__', '__slv__', '__smo__', '__sna__', '__snd__', '__som__', '__sot__', '__spa__', '__als__', '__srd__', '__srp__', '__ssw__', '__sun__', '__swe__', '__swh__', '__szl__', '__tam__', '__tat__', '__tel__', '__tgk__', '__tgl__', '__tha__', '__tir__', '__taq__', '__taq_Tfng__', '__tpi__', '__tsn__', '__tso__', '__tuk__', '__tum__', '__tur__', '__twi__', '__tzm__', '__uig__', '__ukr__', '__umb__', '__urd__', '__uzn__', '__vec__', '__vie__', '__war__', '__wol__', '__xho__', '__ydd__', '__yor__', '__yue__', '__cmn__', '__cmn_Hant__', '__zul__']\n"
     ]
    }
   ],
   "source": [
    "print(tokenizer.all_special_ids)\n",
    "print(tokenizer.all_special_tokens)"
   ]
  },
  {
   "cell_type": "markdown",
   "metadata": {},
   "source": [
    "## tokenize(sequence) 对文本进行分词"
   ]
  },
  {
   "cell_type": "code",
   "execution_count": 64,
   "metadata": {},
   "outputs": [
    {
     "data": {
      "text/plain": [
       "['▁UN',\n",
       " '▁Chief',\n",
       " '▁Say',\n",
       " 's',\n",
       " '▁There',\n",
       " '▁Is',\n",
       " '▁No',\n",
       " '▁Milit',\n",
       " 'ary',\n",
       " '▁S',\n",
       " 'olution',\n",
       " '▁in',\n",
       " '▁Syria']"
      ]
     },
     "execution_count": 64,
     "metadata": {},
     "output_type": "execute_result"
    }
   ],
   "source": [
    "tokens = tokenizer.tokenize(text=example_english_phrase)\n",
    "tokens"
   ]
  },
  {
   "cell_type": "markdown",
   "metadata": {},
   "source": [
    "## convert_tokens_to_ids 将分词后的token映射为数字"
   ]
  },
  {
   "cell_type": "code",
   "execution_count": 65,
   "metadata": {},
   "outputs": [
    {
     "data": {
      "text/plain": [
       "[16297,\n",
       " 134408,\n",
       " 8165,\n",
       " 248066,\n",
       " 14734,\n",
       " 950,\n",
       " 1135,\n",
       " 105721,\n",
       " 3573,\n",
       " 83,\n",
       " 27352,\n",
       " 108,\n",
       " 49486]"
      ]
     },
     "execution_count": 65,
     "metadata": {},
     "output_type": "execute_result"
    }
   ],
   "source": [
    "ids = tokenizer.convert_tokens_to_ids(tokens)\n",
    "ids"
   ]
  },
  {
   "cell_type": "markdown",
   "metadata": {},
   "source": [
    "## encode = tokenize + convert_tokens_to_ids"
   ]
  },
  {
   "cell_type": "code",
   "execution_count": 66,
   "metadata": {},
   "outputs": [
    {
     "name": "stdout",
     "output_type": "stream",
     "text": [
      "[16297, 134408, 8165, 248066, 14734, 950, 1135, 105721, 3573, 83, 27352, 108, 49486]\n"
     ]
    },
    {
     "data": {
      "text/plain": [
       "[3,\n",
       " 256200,\n",
       " 16297,\n",
       " 134408,\n",
       " 8165,\n",
       " 248066,\n",
       " 14734,\n",
       " 950,\n",
       " 1135,\n",
       " 105721,\n",
       " 3573,\n",
       " 83,\n",
       " 27352,\n",
       " 108,\n",
       " 49486,\n",
       " 3]"
      ]
     },
     "execution_count": 66,
     "metadata": {},
     "output_type": "execute_result"
    }
   ],
   "source": [
    "print(tokenizer.encode(example_english_phrase, add_special_tokens=False))\n",
    "ids = tokenizer.encode(example_english_phrase, add_special_tokens=True)\n",
    "ids"
   ]
  },
  {
   "cell_type": "code",
   "execution_count": 67,
   "metadata": {},
   "outputs": [
    {
     "data": {
      "text/plain": [
       "['__eng__', '</s>']"
      ]
     },
     "execution_count": 67,
     "metadata": {},
     "output_type": "execute_result"
    }
   ],
   "source": [
    "tokenizer.convert_ids_to_tokens([256047, 3])"
   ]
  },
  {
   "cell_type": "markdown",
   "metadata": {},
   "source": [
    "## batch_encode_plus = batch encode"
   ]
  },
  {
   "cell_type": "code",
   "execution_count": 68,
   "metadata": {},
   "outputs": [
    {
     "data": {
      "text/plain": [
       "{'input_ids': [[3, 256200, 16297, 134408, 8165, 248066, 14734, 950, 1135, 105721, 3573, 83, 27352, 108, 49486, 3]], 'attention_mask': [[1, 1, 1, 1, 1, 1, 1, 1, 1, 1, 1, 1, 1, 1, 1, 1]]}"
      ]
     },
     "execution_count": 68,
     "metadata": {},
     "output_type": "execute_result"
    }
   ],
   "source": [
    "tokenizer.batch_encode_plus([example_english_phrase], add_special_tokens=True, padding=True)"
   ]
  },
  {
   "cell_type": "markdown",
   "metadata": {},
   "source": [
    "## convert_ids_to_tokens 将数字映射为token"
   ]
  },
  {
   "cell_type": "code",
   "execution_count": 69,
   "metadata": {},
   "outputs": [
    {
     "name": "stdout",
     "output_type": "stream",
     "text": [
      "['</s>', '__cmn__', '▁UN', '▁Chief', '▁Say', 's', '▁There', '▁Is', '▁No', '▁Milit', 'ary', '▁S', 'olution', '▁in', '▁Syria', '</s>']\n"
     ]
    },
    {
     "data": {
      "text/plain": [
       "['▁UN',\n",
       " '▁Chief',\n",
       " '▁Say',\n",
       " 's',\n",
       " '▁There',\n",
       " '▁Is',\n",
       " '▁No',\n",
       " '▁Milit',\n",
       " 'ary',\n",
       " '▁S',\n",
       " 'olution',\n",
       " '▁in',\n",
       " '▁Syria']"
      ]
     },
     "execution_count": 69,
     "metadata": {},
     "output_type": "execute_result"
    }
   ],
   "source": [
    "print(tokenizer.convert_ids_to_tokens(ids))\n",
    "tokens = tokenizer.convert_ids_to_tokens(ids, skip_special_tokens=True)\n",
    "tokens"
   ]
  },
  {
   "cell_type": "markdown",
   "metadata": {},
   "source": [
    "## convert_tokens_to_string 将token转换为string"
   ]
  },
  {
   "cell_type": "code",
   "execution_count": 70,
   "metadata": {},
   "outputs": [
    {
     "data": {
      "text/plain": [
       "'UN Chief Says There Is No Military Solution in Syria'"
      ]
     },
     "execution_count": 70,
     "metadata": {},
     "output_type": "execute_result"
    }
   ],
   "source": [
    "tokenizer.convert_tokens_to_string(tokens)"
   ]
  },
  {
   "cell_type": "markdown",
   "metadata": {},
   "source": [
    "## decode = convert_ids_to_tokens + convert_tokens_to_string"
   ]
  },
  {
   "cell_type": "code",
   "execution_count": 71,
   "metadata": {},
   "outputs": [
    {
     "name": "stdout",
     "output_type": "stream",
     "text": [
      "</s> __cmn__ UN Chief Says There Is No Military Solution in Syria</s>\n",
      "UN Chief Says There Is No Military Solution in Syria\n"
     ]
    }
   ],
   "source": [
    "print(tokenizer.decode(ids))\n",
    "print(tokenizer.decode(ids, skip_special_tokens=True))"
   ]
  },
  {
   "cell_type": "markdown",
   "metadata": {},
   "source": [
    "## batch_decode = batch decode"
   ]
  },
  {
   "cell_type": "code",
   "execution_count": 72,
   "metadata": {},
   "outputs": [
    {
     "name": "stdout",
     "output_type": "stream",
     "text": [
      "['</s> __cmn__ UN Chief Says There Is No Military Solution in Syria</s>']\n",
      "['UN Chief Says There Is No Military Solution in Syria']\n"
     ]
    }
   ],
   "source": [
    "print(tokenizer.batch_decode([ids]))\n",
    "print(tokenizer.batch_decode([ids], skip_special_tokens=True))"
   ]
  },
  {
   "cell_type": "markdown",
   "metadata": {},
   "source": [
    "## tokenizer([sequence])"
   ]
  },
  {
   "cell_type": "code",
   "execution_count": 73,
   "metadata": {},
   "outputs": [
    {
     "name": "stdout",
     "output_type": "stream",
     "text": [
      "dict_keys(['input_ids', 'attention_mask', 'length', 'labels'])\n",
      "tensor([[256047,  16297, 134408,   8165, 248066,  14734,    950,   1135, 105721,\n",
      "           3573,     83,  27352,    108,  49486,      3,      0]])\n",
      "tensor([[1, 1, 1, 1, 1, 1, 1, 1, 1, 1, 1, 1, 1, 1, 1, 0]])\n",
      "tensor([16])\n"
     ]
    }
   ],
   "source": [
    "inputs = tokenizer(\n",
    "    text=example_english_phrase,\n",
    "    text_target=expected_translation_cmn,\n",
    "    padding = True,                         # 填充方式选择 [True, 'longest', 'max_length', 'do_not_pad']\n",
    "    return_length = True,                   # 返回有效长度\n",
    "    return_attention_mask = True,           # 返回attention_mask\n",
    "    return_tensors=\"pt\",\n",
    ")\n",
    "\n",
    "print(inputs.keys())\n",
    "print(inputs[\"input_ids\"])\n",
    "print(inputs[\"attention_mask\"]) # 对应是否是文字\n",
    "print(inputs[\"length\"])         # 对应有效文字长度"
   ]
  },
  {
   "cell_type": "code",
   "execution_count": 74,
   "metadata": {},
   "outputs": [
    {
     "name": "stdout",
     "output_type": "stream",
     "text": [
      "dict_keys(['input_ids', 'length', 'attention_mask', 'labels'])\n",
      "tensor([[256047,  16297, 134408,   8165, 248066,  14734,    950,   1135, 105721,\n",
      "           3573,     83,  27352,    108,  49486,      3,      0],\n",
      "        [256047,  16297, 134408,   8165, 248066,  14734,    950,   1135, 105721,\n",
      "           3573,     83,  27352,    108,  49486,      3,      0]])\n",
      "tensor([[1, 1, 1, 1, 1, 1, 1, 1, 1, 1, 1, 1, 1, 1, 1, 0],\n",
      "        [1, 1, 1, 1, 1, 1, 1, 1, 1, 1, 1, 1, 1, 1, 1, 0]])\n",
      "tensor([15, 15])\n"
     ]
    }
   ],
   "source": [
    "inputs = tokenizer(\n",
    "    text=[example_english_phrase] * 2,\n",
    "    text_target=expected_translation_cmn,\n",
    "    padding = True,                         # 填充方式选择 [True, 'longest', 'max_length', 'do_not_pad']\n",
    "    return_length = True,                   # 返回有效长度\n",
    "    return_attention_mask = True,           # 返回attention_mask\n",
    "    return_tensors=\"pt\",\n",
    ")\n",
    "\n",
    "print(inputs.keys())\n",
    "print(inputs[\"input_ids\"])\n",
    "print(inputs[\"attention_mask\"]) # 对应是否是文字\n",
    "print(inputs[\"length\"])         # 对应有效文字长度"
   ]
  },
  {
   "cell_type": "markdown",
   "metadata": {},
   "source": [
    "# SeamlessM4TTokenizerFast"
   ]
  },
  {
   "cell_type": "code",
   "execution_count": 75,
   "metadata": {},
   "outputs": [
    {
     "name": "stderr",
     "output_type": "stream",
     "text": [
      "Special tokens have been added in the vocabulary, make sure the associated word embeddings are fine-tuned or trained.\n",
      "Special tokens have been added in the vocabulary, make sure the associated word embeddings are fine-tuned or trained.\n"
     ]
    },
    {
     "data": {
      "text/plain": [
       "SeamlessM4TTokenizerFast(name_or_path='facebook/hf-seamless-m4t-medium', vocab_size=256001, model_max_length=2048, is_fast=True, padding_side='right', truncation_side='right', special_tokens={'bos_token': '<s>', 'eos_token': '</s>', 'unk_token': '<unk>', 'sep_token': '</s>', 'pad_token': '<pad>', 'cls_token': '<s>', 'additional_special_tokens': ['<pad>', '<unk>', '<s>', '</s>', '__ace__', '__ace_Latn__', '__acm__', '__acq__', '__aeb__', '__afr__', '__ajp__', '__aka__', '__amh__', '__apc__', '__arb__', '__ars__', '__ary__', '__arz__', '__asm__', '__ast__', '__awa__', '__ayr__', '__azb__', '__azj__', '__bak__', '__bam__', '__ban__', '__bel__', '__bem__', '__ben__', '__bho__', '__bjn__', '__bjn_Latn__', '__bod__', '__bos__', '__bug__', '__bul__', '__cat__', '__ceb__', '__ces__', '__cjk__', '__ckb__', '__crh__', '__cym__', '__dan__', '__deu__', '__dik__', '__dyu__', '__dzo__', '__ell__', '__eng__', '__epo__', '__est__', '__eus__', '__ewe__', '__fao__', '__pes__', '__fij__', '__fin__', '__fon__', '__fra__', '__fur__', '__fuv__', '__gla__', '__gle__', '__glg__', '__grn__', '__guj__', '__hat__', '__hau__', '__heb__', '__hin__', '__hne__', '__hrv__', '__hun__', '__hye__', '__ibo__', '__ilo__', '__ind__', '__isl__', '__ita__', '__jav__', '__jpn__', '__kab__', '__kac__', '__kam__', '__kan__', '__kas__', '__kas_Deva__', '__kat__', '__knc__', '__knc_Latn__', '__kaz__', '__kbp__', '__kea__', '__khm__', '__kik__', '__kin__', '__kir__', '__kmb__', '__kon__', '__kor__', '__kmr__', '__lao__', '__lvs__', '__lij__', '__lim__', '__lin__', '__lit__', '__lmo__', '__ltg__', '__ltz__', '__lua__', '__lug__', '__luo__', '__lus__', '__mag__', '__mai__', '__mal__', '__mar__', '__min__', '__mkd__', '__plt__', '__mlt__', '__mni__', '__khk__', '__mos__', '__mri__', '__zsm__', '__mya__', '__nld__', '__nno__', '__nob__', '__npi__', '__nso__', '__nus__', '__nya__', '__oci__', '__gaz__', '__ory__', '__pag__', '__pan__', '__pap__', '__pol__', '__por__', '__prs__', '__pbt__', '__quy__', '__ron__', '__run__', '__rus__', '__sag__', '__san__', '__sat__', '__scn__', '__shn__', '__sin__', '__slk__', '__slv__', '__smo__', '__sna__', '__snd__', '__som__', '__sot__', '__spa__', '__als__', '__srd__', '__srp__', '__ssw__', '__sun__', '__swe__', '__swh__', '__szl__', '__tam__', '__tat__', '__tel__', '__tgk__', '__tgl__', '__tha__', '__tir__', '__taq__', '__taq_Tfng__', '__tpi__', '__tsn__', '__tso__', '__tuk__', '__tum__', '__tur__', '__twi__', '__tzm__', '__uig__', '__ukr__', '__umb__', '__urd__', '__uzn__', '__vec__', '__vie__', '__war__', '__wol__', '__xho__', '__ydd__', '__yor__', '__yue__', '__cmn__', '__cmn_Hant__', '__zul__']}, clean_up_tokenization_spaces=True),  added_tokens_decoder={\n",
       "\t0: AddedToken(\"<pad>\", rstrip=False, lstrip=False, single_word=False, normalized=False, special=True),\n",
       "\t1: AddedToken(\"<unk>\", rstrip=False, lstrip=False, single_word=False, normalized=False, special=True),\n",
       "\t2: AddedToken(\"<s>\", rstrip=False, lstrip=False, single_word=False, normalized=False, special=True),\n",
       "\t3: AddedToken(\"</s>\", rstrip=False, lstrip=False, single_word=False, normalized=False, special=True),\n",
       "\t256001: AddedToken(\"__ace__\", rstrip=True, lstrip=True, single_word=False, normalized=False, special=True),\n",
       "\t256002: AddedToken(\"__ace_Latn__\", rstrip=True, lstrip=True, single_word=False, normalized=False, special=True),\n",
       "\t256003: AddedToken(\"__acm__\", rstrip=True, lstrip=True, single_word=False, normalized=False, special=True),\n",
       "\t256004: AddedToken(\"__acq__\", rstrip=True, lstrip=True, single_word=False, normalized=False, special=True),\n",
       "\t256005: AddedToken(\"__aeb__\", rstrip=True, lstrip=True, single_word=False, normalized=False, special=True),\n",
       "\t256006: AddedToken(\"__afr__\", rstrip=True, lstrip=True, single_word=False, normalized=False, special=True),\n",
       "\t256007: AddedToken(\"__ajp__\", rstrip=True, lstrip=True, single_word=False, normalized=False, special=True),\n",
       "\t256008: AddedToken(\"__aka__\", rstrip=True, lstrip=True, single_word=False, normalized=False, special=True),\n",
       "\t256009: AddedToken(\"__amh__\", rstrip=True, lstrip=True, single_word=False, normalized=False, special=True),\n",
       "\t256010: AddedToken(\"__apc__\", rstrip=True, lstrip=True, single_word=False, normalized=False, special=True),\n",
       "\t256011: AddedToken(\"__arb__\", rstrip=True, lstrip=True, single_word=False, normalized=False, special=True),\n",
       "\t256012: AddedToken(\"__ars__\", rstrip=True, lstrip=True, single_word=False, normalized=False, special=True),\n",
       "\t256013: AddedToken(\"__ary__\", rstrip=True, lstrip=True, single_word=False, normalized=False, special=True),\n",
       "\t256014: AddedToken(\"__arz__\", rstrip=True, lstrip=True, single_word=False, normalized=False, special=True),\n",
       "\t256015: AddedToken(\"__asm__\", rstrip=True, lstrip=True, single_word=False, normalized=False, special=True),\n",
       "\t256016: AddedToken(\"__ast__\", rstrip=True, lstrip=True, single_word=False, normalized=False, special=True),\n",
       "\t256017: AddedToken(\"__awa__\", rstrip=True, lstrip=True, single_word=False, normalized=False, special=True),\n",
       "\t256018: AddedToken(\"__ayr__\", rstrip=True, lstrip=True, single_word=False, normalized=False, special=True),\n",
       "\t256019: AddedToken(\"__azb__\", rstrip=True, lstrip=True, single_word=False, normalized=False, special=True),\n",
       "\t256020: AddedToken(\"__azj__\", rstrip=True, lstrip=True, single_word=False, normalized=False, special=True),\n",
       "\t256021: AddedToken(\"__bak__\", rstrip=True, lstrip=True, single_word=False, normalized=False, special=True),\n",
       "\t256022: AddedToken(\"__bam__\", rstrip=True, lstrip=True, single_word=False, normalized=False, special=True),\n",
       "\t256023: AddedToken(\"__ban__\", rstrip=True, lstrip=True, single_word=False, normalized=False, special=True),\n",
       "\t256024: AddedToken(\"__bel__\", rstrip=True, lstrip=True, single_word=False, normalized=False, special=True),\n",
       "\t256025: AddedToken(\"__bem__\", rstrip=True, lstrip=True, single_word=False, normalized=False, special=True),\n",
       "\t256026: AddedToken(\"__ben__\", rstrip=True, lstrip=True, single_word=False, normalized=False, special=True),\n",
       "\t256027: AddedToken(\"__bho__\", rstrip=True, lstrip=True, single_word=False, normalized=False, special=True),\n",
       "\t256028: AddedToken(\"__bjn__\", rstrip=True, lstrip=True, single_word=False, normalized=False, special=True),\n",
       "\t256029: AddedToken(\"__bjn_Latn__\", rstrip=True, lstrip=True, single_word=False, normalized=False, special=True),\n",
       "\t256030: AddedToken(\"__bod__\", rstrip=True, lstrip=True, single_word=False, normalized=False, special=True),\n",
       "\t256031: AddedToken(\"__bos__\", rstrip=True, lstrip=True, single_word=False, normalized=False, special=True),\n",
       "\t256032: AddedToken(\"__bug__\", rstrip=True, lstrip=True, single_word=False, normalized=False, special=True),\n",
       "\t256033: AddedToken(\"__bul__\", rstrip=True, lstrip=True, single_word=False, normalized=False, special=True),\n",
       "\t256034: AddedToken(\"__cat__\", rstrip=True, lstrip=True, single_word=False, normalized=False, special=True),\n",
       "\t256035: AddedToken(\"__ceb__\", rstrip=True, lstrip=True, single_word=False, normalized=False, special=True),\n",
       "\t256036: AddedToken(\"__ces__\", rstrip=True, lstrip=True, single_word=False, normalized=False, special=True),\n",
       "\t256037: AddedToken(\"__cjk__\", rstrip=True, lstrip=True, single_word=False, normalized=False, special=True),\n",
       "\t256038: AddedToken(\"__ckb__\", rstrip=True, lstrip=True, single_word=False, normalized=False, special=True),\n",
       "\t256039: AddedToken(\"__crh__\", rstrip=True, lstrip=True, single_word=False, normalized=False, special=True),\n",
       "\t256040: AddedToken(\"__cym__\", rstrip=True, lstrip=True, single_word=False, normalized=False, special=True),\n",
       "\t256041: AddedToken(\"__dan__\", rstrip=True, lstrip=True, single_word=False, normalized=False, special=True),\n",
       "\t256042: AddedToken(\"__deu__\", rstrip=True, lstrip=True, single_word=False, normalized=False, special=True),\n",
       "\t256043: AddedToken(\"__dik__\", rstrip=True, lstrip=True, single_word=False, normalized=False, special=True),\n",
       "\t256044: AddedToken(\"__dyu__\", rstrip=True, lstrip=True, single_word=False, normalized=False, special=True),\n",
       "\t256045: AddedToken(\"__dzo__\", rstrip=True, lstrip=True, single_word=False, normalized=False, special=True),\n",
       "\t256046: AddedToken(\"__ell__\", rstrip=True, lstrip=True, single_word=False, normalized=False, special=True),\n",
       "\t256047: AddedToken(\"__eng__\", rstrip=True, lstrip=True, single_word=False, normalized=False, special=True),\n",
       "\t256048: AddedToken(\"__epo__\", rstrip=True, lstrip=True, single_word=False, normalized=False, special=True),\n",
       "\t256049: AddedToken(\"__est__\", rstrip=True, lstrip=True, single_word=False, normalized=False, special=True),\n",
       "\t256050: AddedToken(\"__eus__\", rstrip=True, lstrip=True, single_word=False, normalized=False, special=True),\n",
       "\t256051: AddedToken(\"__ewe__\", rstrip=True, lstrip=True, single_word=False, normalized=False, special=True),\n",
       "\t256052: AddedToken(\"__fao__\", rstrip=True, lstrip=True, single_word=False, normalized=False, special=True),\n",
       "\t256053: AddedToken(\"__pes__\", rstrip=True, lstrip=True, single_word=False, normalized=False, special=True),\n",
       "\t256054: AddedToken(\"__fij__\", rstrip=True, lstrip=True, single_word=False, normalized=False, special=True),\n",
       "\t256055: AddedToken(\"__fin__\", rstrip=True, lstrip=True, single_word=False, normalized=False, special=True),\n",
       "\t256056: AddedToken(\"__fon__\", rstrip=True, lstrip=True, single_word=False, normalized=False, special=True),\n",
       "\t256057: AddedToken(\"__fra__\", rstrip=True, lstrip=True, single_word=False, normalized=False, special=True),\n",
       "\t256058: AddedToken(\"__fur__\", rstrip=True, lstrip=True, single_word=False, normalized=False, special=True),\n",
       "\t256059: AddedToken(\"__fuv__\", rstrip=True, lstrip=True, single_word=False, normalized=False, special=True),\n",
       "\t256060: AddedToken(\"__gla__\", rstrip=True, lstrip=True, single_word=False, normalized=False, special=True),\n",
       "\t256061: AddedToken(\"__gle__\", rstrip=True, lstrip=True, single_word=False, normalized=False, special=True),\n",
       "\t256062: AddedToken(\"__glg__\", rstrip=True, lstrip=True, single_word=False, normalized=False, special=True),\n",
       "\t256063: AddedToken(\"__grn__\", rstrip=True, lstrip=True, single_word=False, normalized=False, special=True),\n",
       "\t256064: AddedToken(\"__guj__\", rstrip=True, lstrip=True, single_word=False, normalized=False, special=True),\n",
       "\t256065: AddedToken(\"__hat__\", rstrip=True, lstrip=True, single_word=False, normalized=False, special=True),\n",
       "\t256066: AddedToken(\"__hau__\", rstrip=True, lstrip=True, single_word=False, normalized=False, special=True),\n",
       "\t256067: AddedToken(\"__heb__\", rstrip=True, lstrip=True, single_word=False, normalized=False, special=True),\n",
       "\t256068: AddedToken(\"__hin__\", rstrip=True, lstrip=True, single_word=False, normalized=False, special=True),\n",
       "\t256069: AddedToken(\"__hne__\", rstrip=True, lstrip=True, single_word=False, normalized=False, special=True),\n",
       "\t256070: AddedToken(\"__hrv__\", rstrip=True, lstrip=True, single_word=False, normalized=False, special=True),\n",
       "\t256071: AddedToken(\"__hun__\", rstrip=True, lstrip=True, single_word=False, normalized=False, special=True),\n",
       "\t256072: AddedToken(\"__hye__\", rstrip=True, lstrip=True, single_word=False, normalized=False, special=True),\n",
       "\t256073: AddedToken(\"__ibo__\", rstrip=True, lstrip=True, single_word=False, normalized=False, special=True),\n",
       "\t256074: AddedToken(\"__ilo__\", rstrip=True, lstrip=True, single_word=False, normalized=False, special=True),\n",
       "\t256075: AddedToken(\"__ind__\", rstrip=True, lstrip=True, single_word=False, normalized=False, special=True),\n",
       "\t256076: AddedToken(\"__isl__\", rstrip=True, lstrip=True, single_word=False, normalized=False, special=True),\n",
       "\t256077: AddedToken(\"__ita__\", rstrip=True, lstrip=True, single_word=False, normalized=False, special=True),\n",
       "\t256078: AddedToken(\"__jav__\", rstrip=True, lstrip=True, single_word=False, normalized=False, special=True),\n",
       "\t256079: AddedToken(\"__jpn__\", rstrip=True, lstrip=True, single_word=False, normalized=False, special=True),\n",
       "\t256080: AddedToken(\"__kab__\", rstrip=True, lstrip=True, single_word=False, normalized=False, special=True),\n",
       "\t256081: AddedToken(\"__kac__\", rstrip=True, lstrip=True, single_word=False, normalized=False, special=True),\n",
       "\t256082: AddedToken(\"__kam__\", rstrip=True, lstrip=True, single_word=False, normalized=False, special=True),\n",
       "\t256083: AddedToken(\"__kan__\", rstrip=True, lstrip=True, single_word=False, normalized=False, special=True),\n",
       "\t256084: AddedToken(\"__kas__\", rstrip=True, lstrip=True, single_word=False, normalized=False, special=True),\n",
       "\t256085: AddedToken(\"__kas_Deva__\", rstrip=True, lstrip=True, single_word=False, normalized=False, special=True),\n",
       "\t256086: AddedToken(\"__kat__\", rstrip=True, lstrip=True, single_word=False, normalized=False, special=True),\n",
       "\t256087: AddedToken(\"__knc__\", rstrip=True, lstrip=True, single_word=False, normalized=False, special=True),\n",
       "\t256088: AddedToken(\"__knc_Latn__\", rstrip=True, lstrip=True, single_word=False, normalized=False, special=True),\n",
       "\t256089: AddedToken(\"__kaz__\", rstrip=True, lstrip=True, single_word=False, normalized=False, special=True),\n",
       "\t256090: AddedToken(\"__kbp__\", rstrip=True, lstrip=True, single_word=False, normalized=False, special=True),\n",
       "\t256091: AddedToken(\"__kea__\", rstrip=True, lstrip=True, single_word=False, normalized=False, special=True),\n",
       "\t256092: AddedToken(\"__khm__\", rstrip=True, lstrip=True, single_word=False, normalized=False, special=True),\n",
       "\t256093: AddedToken(\"__kik__\", rstrip=True, lstrip=True, single_word=False, normalized=False, special=True),\n",
       "\t256094: AddedToken(\"__kin__\", rstrip=True, lstrip=True, single_word=False, normalized=False, special=True),\n",
       "\t256095: AddedToken(\"__kir__\", rstrip=True, lstrip=True, single_word=False, normalized=False, special=True),\n",
       "\t256096: AddedToken(\"__kmb__\", rstrip=True, lstrip=True, single_word=False, normalized=False, special=True),\n",
       "\t256097: AddedToken(\"__kon__\", rstrip=True, lstrip=True, single_word=False, normalized=False, special=True),\n",
       "\t256098: AddedToken(\"__kor__\", rstrip=True, lstrip=True, single_word=False, normalized=False, special=True),\n",
       "\t256099: AddedToken(\"__kmr__\", rstrip=True, lstrip=True, single_word=False, normalized=False, special=True),\n",
       "\t256100: AddedToken(\"__lao__\", rstrip=True, lstrip=True, single_word=False, normalized=False, special=True),\n",
       "\t256101: AddedToken(\"__lvs__\", rstrip=True, lstrip=True, single_word=False, normalized=False, special=True),\n",
       "\t256102: AddedToken(\"__lij__\", rstrip=True, lstrip=True, single_word=False, normalized=False, special=True),\n",
       "\t256103: AddedToken(\"__lim__\", rstrip=True, lstrip=True, single_word=False, normalized=False, special=True),\n",
       "\t256104: AddedToken(\"__lin__\", rstrip=True, lstrip=True, single_word=False, normalized=False, special=True),\n",
       "\t256105: AddedToken(\"__lit__\", rstrip=True, lstrip=True, single_word=False, normalized=False, special=True),\n",
       "\t256106: AddedToken(\"__lmo__\", rstrip=True, lstrip=True, single_word=False, normalized=False, special=True),\n",
       "\t256107: AddedToken(\"__ltg__\", rstrip=True, lstrip=True, single_word=False, normalized=False, special=True),\n",
       "\t256108: AddedToken(\"__ltz__\", rstrip=True, lstrip=True, single_word=False, normalized=False, special=True),\n",
       "\t256109: AddedToken(\"__lua__\", rstrip=True, lstrip=True, single_word=False, normalized=False, special=True),\n",
       "\t256110: AddedToken(\"__lug__\", rstrip=True, lstrip=True, single_word=False, normalized=False, special=True),\n",
       "\t256111: AddedToken(\"__luo__\", rstrip=True, lstrip=True, single_word=False, normalized=False, special=True),\n",
       "\t256112: AddedToken(\"__lus__\", rstrip=True, lstrip=True, single_word=False, normalized=False, special=True),\n",
       "\t256113: AddedToken(\"__mag__\", rstrip=True, lstrip=True, single_word=False, normalized=False, special=True),\n",
       "\t256114: AddedToken(\"__mai__\", rstrip=True, lstrip=True, single_word=False, normalized=False, special=True),\n",
       "\t256115: AddedToken(\"__mal__\", rstrip=True, lstrip=True, single_word=False, normalized=False, special=True),\n",
       "\t256116: AddedToken(\"__mar__\", rstrip=True, lstrip=True, single_word=False, normalized=False, special=True),\n",
       "\t256117: AddedToken(\"__min__\", rstrip=True, lstrip=True, single_word=False, normalized=False, special=True),\n",
       "\t256118: AddedToken(\"__mkd__\", rstrip=True, lstrip=True, single_word=False, normalized=False, special=True),\n",
       "\t256119: AddedToken(\"__plt__\", rstrip=True, lstrip=True, single_word=False, normalized=False, special=True),\n",
       "\t256120: AddedToken(\"__mlt__\", rstrip=True, lstrip=True, single_word=False, normalized=False, special=True),\n",
       "\t256121: AddedToken(\"__mni__\", rstrip=True, lstrip=True, single_word=False, normalized=False, special=True),\n",
       "\t256122: AddedToken(\"__khk__\", rstrip=True, lstrip=True, single_word=False, normalized=False, special=True),\n",
       "\t256123: AddedToken(\"__mos__\", rstrip=True, lstrip=True, single_word=False, normalized=False, special=True),\n",
       "\t256124: AddedToken(\"__mri__\", rstrip=True, lstrip=True, single_word=False, normalized=False, special=True),\n",
       "\t256125: AddedToken(\"__zsm__\", rstrip=True, lstrip=True, single_word=False, normalized=False, special=True),\n",
       "\t256126: AddedToken(\"__mya__\", rstrip=True, lstrip=True, single_word=False, normalized=False, special=True),\n",
       "\t256127: AddedToken(\"__nld__\", rstrip=True, lstrip=True, single_word=False, normalized=False, special=True),\n",
       "\t256128: AddedToken(\"__nno__\", rstrip=True, lstrip=True, single_word=False, normalized=False, special=True),\n",
       "\t256129: AddedToken(\"__nob__\", rstrip=True, lstrip=True, single_word=False, normalized=False, special=True),\n",
       "\t256130: AddedToken(\"__npi__\", rstrip=True, lstrip=True, single_word=False, normalized=False, special=True),\n",
       "\t256131: AddedToken(\"__nso__\", rstrip=True, lstrip=True, single_word=False, normalized=False, special=True),\n",
       "\t256132: AddedToken(\"__nus__\", rstrip=True, lstrip=True, single_word=False, normalized=False, special=True),\n",
       "\t256133: AddedToken(\"__nya__\", rstrip=True, lstrip=True, single_word=False, normalized=False, special=True),\n",
       "\t256134: AddedToken(\"__oci__\", rstrip=True, lstrip=True, single_word=False, normalized=False, special=True),\n",
       "\t256135: AddedToken(\"__gaz__\", rstrip=True, lstrip=True, single_word=False, normalized=False, special=True),\n",
       "\t256136: AddedToken(\"__ory__\", rstrip=True, lstrip=True, single_word=False, normalized=False, special=True),\n",
       "\t256137: AddedToken(\"__pag__\", rstrip=True, lstrip=True, single_word=False, normalized=False, special=True),\n",
       "\t256138: AddedToken(\"__pan__\", rstrip=True, lstrip=True, single_word=False, normalized=False, special=True),\n",
       "\t256139: AddedToken(\"__pap__\", rstrip=True, lstrip=True, single_word=False, normalized=False, special=True),\n",
       "\t256140: AddedToken(\"__pol__\", rstrip=True, lstrip=True, single_word=False, normalized=False, special=True),\n",
       "\t256141: AddedToken(\"__por__\", rstrip=True, lstrip=True, single_word=False, normalized=False, special=True),\n",
       "\t256142: AddedToken(\"__prs__\", rstrip=True, lstrip=True, single_word=False, normalized=False, special=True),\n",
       "\t256143: AddedToken(\"__pbt__\", rstrip=True, lstrip=True, single_word=False, normalized=False, special=True),\n",
       "\t256144: AddedToken(\"__quy__\", rstrip=True, lstrip=True, single_word=False, normalized=False, special=True),\n",
       "\t256145: AddedToken(\"__ron__\", rstrip=True, lstrip=True, single_word=False, normalized=False, special=True),\n",
       "\t256146: AddedToken(\"__run__\", rstrip=True, lstrip=True, single_word=False, normalized=False, special=True),\n",
       "\t256147: AddedToken(\"__rus__\", rstrip=True, lstrip=True, single_word=False, normalized=False, special=True),\n",
       "\t256148: AddedToken(\"__sag__\", rstrip=True, lstrip=True, single_word=False, normalized=False, special=True),\n",
       "\t256149: AddedToken(\"__san__\", rstrip=True, lstrip=True, single_word=False, normalized=False, special=True),\n",
       "\t256150: AddedToken(\"__sat__\", rstrip=True, lstrip=True, single_word=False, normalized=False, special=True),\n",
       "\t256151: AddedToken(\"__scn__\", rstrip=True, lstrip=True, single_word=False, normalized=False, special=True),\n",
       "\t256152: AddedToken(\"__shn__\", rstrip=True, lstrip=True, single_word=False, normalized=False, special=True),\n",
       "\t256153: AddedToken(\"__sin__\", rstrip=True, lstrip=True, single_word=False, normalized=False, special=True),\n",
       "\t256154: AddedToken(\"__slk__\", rstrip=True, lstrip=True, single_word=False, normalized=False, special=True),\n",
       "\t256155: AddedToken(\"__slv__\", rstrip=True, lstrip=True, single_word=False, normalized=False, special=True),\n",
       "\t256156: AddedToken(\"__smo__\", rstrip=True, lstrip=True, single_word=False, normalized=False, special=True),\n",
       "\t256157: AddedToken(\"__sna__\", rstrip=True, lstrip=True, single_word=False, normalized=False, special=True),\n",
       "\t256158: AddedToken(\"__snd__\", rstrip=True, lstrip=True, single_word=False, normalized=False, special=True),\n",
       "\t256159: AddedToken(\"__som__\", rstrip=True, lstrip=True, single_word=False, normalized=False, special=True),\n",
       "\t256160: AddedToken(\"__sot__\", rstrip=True, lstrip=True, single_word=False, normalized=False, special=True),\n",
       "\t256161: AddedToken(\"__spa__\", rstrip=True, lstrip=True, single_word=False, normalized=False, special=True),\n",
       "\t256162: AddedToken(\"__als__\", rstrip=True, lstrip=True, single_word=False, normalized=False, special=True),\n",
       "\t256163: AddedToken(\"__srd__\", rstrip=True, lstrip=True, single_word=False, normalized=False, special=True),\n",
       "\t256164: AddedToken(\"__srp__\", rstrip=True, lstrip=True, single_word=False, normalized=False, special=True),\n",
       "\t256165: AddedToken(\"__ssw__\", rstrip=True, lstrip=True, single_word=False, normalized=False, special=True),\n",
       "\t256166: AddedToken(\"__sun__\", rstrip=True, lstrip=True, single_word=False, normalized=False, special=True),\n",
       "\t256167: AddedToken(\"__swe__\", rstrip=True, lstrip=True, single_word=False, normalized=False, special=True),\n",
       "\t256168: AddedToken(\"__swh__\", rstrip=True, lstrip=True, single_word=False, normalized=False, special=True),\n",
       "\t256169: AddedToken(\"__szl__\", rstrip=True, lstrip=True, single_word=False, normalized=False, special=True),\n",
       "\t256170: AddedToken(\"__tam__\", rstrip=True, lstrip=True, single_word=False, normalized=False, special=True),\n",
       "\t256171: AddedToken(\"__tat__\", rstrip=True, lstrip=True, single_word=False, normalized=False, special=True),\n",
       "\t256172: AddedToken(\"__tel__\", rstrip=True, lstrip=True, single_word=False, normalized=False, special=True),\n",
       "\t256173: AddedToken(\"__tgk__\", rstrip=True, lstrip=True, single_word=False, normalized=False, special=True),\n",
       "\t256174: AddedToken(\"__tgl__\", rstrip=True, lstrip=True, single_word=False, normalized=False, special=True),\n",
       "\t256175: AddedToken(\"__tha__\", rstrip=True, lstrip=True, single_word=False, normalized=False, special=True),\n",
       "\t256176: AddedToken(\"__tir__\", rstrip=True, lstrip=True, single_word=False, normalized=False, special=True),\n",
       "\t256177: AddedToken(\"__taq__\", rstrip=True, lstrip=True, single_word=False, normalized=False, special=True),\n",
       "\t256178: AddedToken(\"__taq_Tfng__\", rstrip=True, lstrip=True, single_word=False, normalized=False, special=True),\n",
       "\t256179: AddedToken(\"__tpi__\", rstrip=True, lstrip=True, single_word=False, normalized=False, special=True),\n",
       "\t256180: AddedToken(\"__tsn__\", rstrip=True, lstrip=True, single_word=False, normalized=False, special=True),\n",
       "\t256181: AddedToken(\"__tso__\", rstrip=True, lstrip=True, single_word=False, normalized=False, special=True),\n",
       "\t256182: AddedToken(\"__tuk__\", rstrip=True, lstrip=True, single_word=False, normalized=False, special=True),\n",
       "\t256183: AddedToken(\"__tum__\", rstrip=True, lstrip=True, single_word=False, normalized=False, special=True),\n",
       "\t256184: AddedToken(\"__tur__\", rstrip=True, lstrip=True, single_word=False, normalized=False, special=True),\n",
       "\t256185: AddedToken(\"__twi__\", rstrip=True, lstrip=True, single_word=False, normalized=False, special=True),\n",
       "\t256186: AddedToken(\"__tzm__\", rstrip=True, lstrip=True, single_word=False, normalized=False, special=True),\n",
       "\t256187: AddedToken(\"__uig__\", rstrip=True, lstrip=True, single_word=False, normalized=False, special=True),\n",
       "\t256188: AddedToken(\"__ukr__\", rstrip=True, lstrip=True, single_word=False, normalized=False, special=True),\n",
       "\t256189: AddedToken(\"__umb__\", rstrip=True, lstrip=True, single_word=False, normalized=False, special=True),\n",
       "\t256190: AddedToken(\"__urd__\", rstrip=True, lstrip=True, single_word=False, normalized=False, special=True),\n",
       "\t256191: AddedToken(\"__uzn__\", rstrip=True, lstrip=True, single_word=False, normalized=False, special=True),\n",
       "\t256192: AddedToken(\"__vec__\", rstrip=True, lstrip=True, single_word=False, normalized=False, special=True),\n",
       "\t256193: AddedToken(\"__vie__\", rstrip=True, lstrip=True, single_word=False, normalized=False, special=True),\n",
       "\t256194: AddedToken(\"__war__\", rstrip=True, lstrip=True, single_word=False, normalized=False, special=True),\n",
       "\t256195: AddedToken(\"__wol__\", rstrip=True, lstrip=True, single_word=False, normalized=False, special=True),\n",
       "\t256196: AddedToken(\"__xho__\", rstrip=True, lstrip=True, single_word=False, normalized=False, special=True),\n",
       "\t256197: AddedToken(\"__ydd__\", rstrip=True, lstrip=True, single_word=False, normalized=False, special=True),\n",
       "\t256198: AddedToken(\"__yor__\", rstrip=True, lstrip=True, single_word=False, normalized=False, special=True),\n",
       "\t256199: AddedToken(\"__yue__\", rstrip=True, lstrip=True, single_word=False, normalized=False, special=True),\n",
       "\t256200: AddedToken(\"__cmn__\", rstrip=True, lstrip=True, single_word=False, normalized=False, special=True),\n",
       "\t256201: AddedToken(\"__cmn_Hant__\", rstrip=True, lstrip=True, single_word=False, normalized=False, special=True),\n",
       "\t256202: AddedToken(\"__zul__\", rstrip=True, lstrip=True, single_word=False, normalized=False, special=True),\n",
       "}"
      ]
     },
     "execution_count": 75,
     "metadata": {},
     "output_type": "execute_result"
    }
   ],
   "source": [
    "tokenizer: SeamlessM4TTokenizerFast = SeamlessM4TTokenizerFast.from_pretrained(version)\n",
    "tokenizer"
   ]
  },
  {
   "cell_type": "code",
   "execution_count": 76,
   "metadata": {},
   "outputs": [
    {
     "name": "stdout",
     "output_type": "stream",
     "text": [
      "dict_keys(['input_ids', 'attention_mask', 'length', 'labels'])\n",
      "tensor([[256047,  16297, 134408,   8165, 248066,  14734,    950,   1135, 105721,\n",
      "           3573,     83,  27352,    108,  49486,      3,      0],\n",
      "        [256047,  16297, 134408,   8165, 248066,  14734,    950,   1135, 105721,\n",
      "           3573,     83,  27352,    108,  49486,      3,      0]])\n",
      "tensor([[1, 1, 1, 1, 1, 1, 1, 1, 1, 1, 1, 1, 1, 1, 1, 0],\n",
      "        [1, 1, 1, 1, 1, 1, 1, 1, 1, 1, 1, 1, 1, 1, 1, 0]])\n",
      "tensor([16, 16])\n"
     ]
    }
   ],
   "source": [
    "inputs = tokenizer(\n",
    "    text=[example_english_phrase] * 2,\n",
    "    text_target=expected_translation_cmn,\n",
    "    padding = True,                         # 填充方式选择 [True, 'longest', 'max_length', 'do_not_pad']\n",
    "    return_length = True,                   # 返回有效长度\n",
    "    return_attention_mask = True,           # 返回attention_mask\n",
    "    return_tensors=\"pt\",\n",
    ")\n",
    "\n",
    "print(inputs.keys())\n",
    "print(inputs[\"input_ids\"])\n",
    "print(inputs[\"attention_mask\"]) # 对应是否是文字\n",
    "print(inputs[\"length\"])         # 对应有效文字长度"
   ]
  },
  {
   "cell_type": "code",
   "execution_count": null,
   "metadata": {},
   "outputs": [],
   "source": []
  }
 ],
 "metadata": {
  "kernelspec": {
   "display_name": "pytorch",
   "language": "python",
   "name": "python3"
  },
  "language_info": {
   "codemirror_mode": {
    "name": "ipython",
    "version": 3
   },
   "file_extension": ".py",
   "mimetype": "text/x-python",
   "name": "python",
   "nbconvert_exporter": "python",
   "pygments_lexer": "ipython3",
   "version": "3.11.4"
  }
 },
 "nbformat": 4,
 "nbformat_minor": 2
}
