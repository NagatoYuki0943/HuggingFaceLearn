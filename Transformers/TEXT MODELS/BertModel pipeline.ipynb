{
 "cells": [
  {
   "cell_type": "code",
   "execution_count": 1,
   "metadata": {},
   "outputs": [],
   "source": [
    "import torch\n",
    "from transformers import pipeline"
   ]
  },
  {
   "cell_type": "code",
   "execution_count": 2,
   "metadata": {},
   "outputs": [
    {
     "data": {
      "text/plain": [
       "device(type='cuda', index=0)"
      ]
     },
     "execution_count": 2,
     "metadata": {},
     "output_type": "execute_result"
    }
   ],
   "source": [
    "device = torch.device(\"cuda:0\" if torch.cuda.is_available() else \"cpu\")\n",
    "device"
   ]
  },
  {
   "cell_type": "markdown",
   "metadata": {},
   "source": [
    "# Bert pipeline\n",
    "\n",
    "https://huggingface.co/bert-base-uncased"
   ]
  },
  {
   "cell_type": "code",
   "execution_count": 3,
   "metadata": {},
   "outputs": [],
   "source": [
    "version = \"bert-base-uncased\"\n",
    "sequence = \"The quick brown fox [MASK] over the lazy dog.\""
   ]
  },
  {
   "cell_type": "code",
   "execution_count": 4,
   "metadata": {},
   "outputs": [
    {
     "name": "stderr",
     "output_type": "stream",
     "text": [
      "Some weights of the model checkpoint at bert-base-uncased were not used when initializing BertForMaskedLM: ['bert.pooler.dense.weight', 'cls.seq_relationship.weight', 'cls.seq_relationship.bias', 'bert.pooler.dense.bias']\n",
      "- This IS expected if you are initializing BertForMaskedLM from the checkpoint of a model trained on another task or with another architecture (e.g. initializing a BertForSequenceClassification model from a BertForPreTraining model).\n",
      "- This IS NOT expected if you are initializing BertForMaskedLM from the checkpoint of a model that you expect to be exactly identical (initializing a BertForSequenceClassification model from a BertForSequenceClassification model).\n"
     ]
    },
    {
     "data": {
      "text/plain": [
       "<transformers.pipelines.fill_mask.FillMaskPipeline at 0x19c5c795790>"
      ]
     },
     "execution_count": 4,
     "metadata": {},
     "output_type": "execute_result"
    }
   ],
   "source": [
    "unmasker = pipeline(\n",
    "    task = \"fill-mask\",\n",
    "    model = version,\n",
    "    # -1: cpu, 1,2...means gpu id\n",
    "    device = 0,\n",
    "    # If the model is too large for a single GPU, you can set device_map=\"auto\" to allow\n",
    "    # Accelerate to automatically determine how to load and store the model weights.\n",
    "    device_map = None,\n",
    "    batch_size = 1,\n",
    ")\n",
    "unmasker"
   ]
  },
  {
   "cell_type": "code",
   "execution_count": 5,
   "metadata": {},
   "outputs": [
    {
     "data": {
      "text/plain": [
       "[{'score': 0.12410002946853638,\n",
       "  'token': 3427,\n",
       "  'token_str': 'watched',\n",
       "  'sequence': 'the quick brown fox watched over the lazy dog.'},\n",
       " {'score': 0.08966875821352005,\n",
       "  'token': 2165,\n",
       "  'token_str': 'took',\n",
       "  'sequence': 'the quick brown fox took over the lazy dog.'},\n",
       " {'score': 0.04995041713118553,\n",
       "  'token': 2246,\n",
       "  'token_str': 'looked',\n",
       "  'sequence': 'the quick brown fox looked over the lazy dog.'},\n",
       " {'score': 0.04328978806734085,\n",
       "  'token': 2743,\n",
       "  'token_str': 'ran',\n",
       "  'sequence': 'the quick brown fox ran over the lazy dog.'},\n",
       " {'score': 0.03996002674102783,\n",
       "  'token': 24358,\n",
       "  'token_str': 'loomed',\n",
       "  'sequence': 'the quick brown fox loomed over the lazy dog.'}]"
      ]
     },
     "execution_count": 5,
     "metadata": {},
     "output_type": "execute_result"
    }
   ],
   "source": [
    "unmasker(sequence)"
   ]
  },
  {
   "cell_type": "code",
   "execution_count": null,
   "metadata": {},
   "outputs": [],
   "source": []
  }
 ],
 "metadata": {
  "kernelspec": {
   "display_name": "pytorch",
   "language": "python",
   "name": "python3"
  },
  "language_info": {
   "codemirror_mode": {
    "name": "ipython",
    "version": 3
   },
   "file_extension": ".py",
   "mimetype": "text/x-python",
   "name": "python",
   "nbconvert_exporter": "python",
   "pygments_lexer": "ipython3",
   "version": "3.11.4"
  },
  "orig_nbformat": 4
 },
 "nbformat": 4,
 "nbformat_minor": 2
}
